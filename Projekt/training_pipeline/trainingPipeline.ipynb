{
  "cells": [
    {
      "cell_type": "markdown",
      "metadata": {
        "id": "NO9AxolYG4ye"
      },
      "source": [
        "# **ID2223 Project: Training Pipeline**"
      ]
    },
    {
      "cell_type": "markdown",
      "metadata": {
        "id": "auYG3zZVJ1EK"
      },
      "source": [
        "*Overview of pipeline*"
      ]
    },
    {
      "cell_type": "markdown",
      "metadata": {
        "id": "xIx0wppFIwut"
      },
      "source": [
        "**PREPARATION**\n",
        "1. Install requirements\n",
        "2. Control Colab GPU and CPU setup\n",
        "3. Login to Hopsworks\n",
        "\n",
        "---\n",
        "\n",
        "**DATASET**\n",
        "1.  Download full dataset from Hopsworks and save it to Colab.\n",
        "\n",
        "---\n",
        "\n",
        "**XGBOOST REGRESSOR**\n",
        "1. Load full dataset.\n",
        "2. Assign correct datatypes to the variables.\n",
        "3. Separate the features (X) and the label (Y).\n",
        "4. Split full dataset (*seed = 7*) into a training set (80%) and test set (20%).\n",
        "\n",
        "\n",
        "5. Initialize XGBOOST Regressor model.\n",
        "6. Optimize hyperparameters with GridSearch.\n",
        "7. Train the XGBBOOST model on the training data.\n",
        "8. Let the model predict on the testing data.\n",
        "9. Calculate performance metrics: *MAE* and *MAPE*.\n",
        "10. Plot model's predictions vs. original values.\n",
        "\n",
        "\n",
        "11. Upload model to Hopsworks Model Registry.\n",
        "12. Download model from Hopsworks Model Registry.\n",
        "\n",
        "---\n",
        "**AUTOGLUON TABULAR PREDICTOR**\n",
        "1. Load full dataset and assign correct datatypes.\n",
        "2. Separate the features (X) and the label (Y).\n",
        "3. Split full dataset (*seed = 7*) into a training set (80%) and test set (20%).\n",
        "\n",
        "\n",
        "4. Initialize, train, and then save Autogluon Tabular Predictor.\n",
        "5. Let the model predict on the testing data.\n",
        "6. Calculate performance metrics MAE and MAPE\n",
        "\n",
        "\n",
        "7. Upload model to Hopsworks Model Registry\n",
        "8. Download model from Hopsworks Model Registry\n",
        "\n",
        "---\n"
      ]
    },
    {
      "cell_type": "markdown",
      "metadata": {
        "id": "4M-Fiu4Cefro"
      },
      "source": [
        "Install requirements"
      ]
    },
    {
      "cell_type": "code",
      "execution_count": null,
      "metadata": {
        "colab": {
          "base_uri": "https://localhost:8080/",
          "height": 1000
        },
        "id": "AEqldmUa8edK",
        "outputId": "7390ed5a-c560-4554-8c7e-8c8f1143e305"
      },
      "outputs": [],
      "source": [
        "!pip install hopsworks\n",
        "!pip install datasets\n",
        "!pip install pandas\n",
        "!pip install xgboost==1.7.2\n",
        "!pip install autogluon"
      ]
    },
    {
      "cell_type": "markdown",
      "metadata": {
        "id": "JX07770XIWvW"
      },
      "source": [
        "Check Colab setup"
      ]
    },
    {
      "cell_type": "code",
      "execution_count": null,
      "metadata": {
        "colab": {
          "base_uri": "https://localhost:8080/"
        },
        "id": "UN4BX7cO892k",
        "outputId": "d6428f3b-0b91-4f20-a0ee-d0959081fc37"
      },
      "outputs": [],
      "source": [
        "# Check GPU info\n",
        "gpu_info = !nvidia-smi\n",
        "gpu_info = '\\n'.join(gpu_info)\n",
        "if gpu_info.find('failed') >= 0:\n",
        "  print('Not connected to a GPU')\n",
        "else:\n",
        "  print(gpu_info)"
      ]
    },
    {
      "cell_type": "code",
      "execution_count": null,
      "metadata": {
        "colab": {
          "base_uri": "https://localhost:8080/"
        },
        "id": "BcrWD3inVMi6",
        "outputId": "fb597168-da6d-41f9-ecb1-2789e893e2d0"
      },
      "outputs": [],
      "source": [
        "# Check CPU info\n",
        "!lscpu |grep 'Model name'"
      ]
    },
    {
      "cell_type": "markdown",
      "metadata": {
        "id": "xqW8RrIBIcoG"
      },
      "source": [
        "Login to and Hopsworks"
      ]
    },
    {
      "cell_type": "code",
      "execution_count": null,
      "metadata": {
        "id": "K0dT_JS48-fa"
      },
      "outputs": [],
      "source": [
        "import hopsworks\n",
        "\n",
        "project = hopsworks.login()\n",
        "dataset_api = project.get_dataset_api()"
      ]
    },
    {
      "cell_type": "markdown",
      "metadata": {
        "id": "zLSSLs4H9eQ6"
      },
      "source": [
        "## Download full dataset from Hopsworks"
      ]
    },
    {
      "cell_type": "code",
      "execution_count": null,
      "metadata": {
        "colab": {
          "base_uri": "https://localhost:8080/",
          "height": 84,
          "referenced_widgets": [
            "f326068e54954dfaaee1f102264e1caf",
            "381b3b2d777547e1a575f5bf22db7475",
            "d66025301e644c65bd689459e52c9084",
            "ceee73ff01354f8195c8b5f34ef33cad",
            "a9c5113721864b988cdb5e4b6149f7f1",
            "396ad7c56f274414916ed480a0c52c83",
            "f7daa62bf33546bdb45f60416f36a7fe",
            "792488cdaba64e12a806719ae958ae0f",
            "652d6019ae6d4e238bbbdfc9cc4f3089",
            "36913340b3f645b39fad9e0f60cdce74",
            "6136149f5189419c98a3e48d535050b4"
          ]
        },
        "id": "DD8hSqWh9TXj",
        "outputId": "ee2d7583-2a25-4f30-a846-12086974c711"
      },
      "outputs": [],
      "source": [
        "# Download full dataset from Hopsworks\n",
        "HW_PATH = \"/Projects/alexao00/Project/features.csv\"\n",
        "LOCAL_PATH = \"/content\"\n",
        "\n",
        "downloaded_file_path = dataset_api.download(\n",
        "    HW_PATH, \n",
        "    local_path = LOCAL_PATH, overwrite=True)\n",
        "print('The following file has been succesfully downloaded from Hopsworks and is available at:' + '\\n' + downloaded_file_path)"
      ]
    },
    {
      "cell_type": "markdown",
      "metadata": {
        "id": "nIemi34x_eno"
      },
      "source": [
        "# XGBOOST REGRESSOR 🌲"
      ]
    },
    {
      "cell_type": "markdown",
      "metadata": {
        "id": "Fif6eEswWgy7"
      },
      "source": [
        "Load dataset and assign correct datatypes"
      ]
    },
    {
      "cell_type": "code",
      "execution_count": null,
      "metadata": {
        "id": "QJsdaSoDWero"
      },
      "outputs": [],
      "source": [
        "def fix_datatypes_in_dataframe(df):\n",
        "  '''\n",
        "  Drop unnecessary features.\n",
        "  Assign correct datatypes to features in a dataframe.\n",
        "  '''\n",
        "\n",
        "  df = df.drop(['area', 'brf'], axis=1)\n",
        " \n",
        "  features_to_categorical = [\"streetName\", \"agency\"]\n",
        "  features_to_float = [\"number\", \"sqm\", \"rooms\", \"price\", \"soldDate\", \"monthlyFee\",\n",
        "                      \"monthlyCost\", \"floor\", \"yearBuilt\", \"gdp\", \"unemployment\",\n",
        "                      \"interestRate\"]\n",
        "\n",
        "  df[features_to_categorical] = df[features_to_categorical].astype(\"category\")\n",
        "  df[features_to_float] = df[features_to_float].astype(float)\n",
        "  \n",
        "  df = df[(df['lat'] != 0) | (df['lon'] != 0)]\n",
        "\n",
        "  return df"
      ]
    },
    {
      "cell_type": "code",
      "execution_count": null,
      "metadata": {
        "colab": {
          "base_uri": "https://localhost:8080/"
        },
        "id": "fjNww9CDi5kW",
        "outputId": "33339763-ed35-4947-8f79-baff4bd041b9"
      },
      "outputs": [],
      "source": [
        "import pandas as pd\n",
        "\n",
        "# Read full dataset \n",
        "full_dataset = pd.read_csv (\"/content/features.csv\", sep=\";\")\n",
        "\n",
        "# Assign correct datatypes to the features\n",
        "full_dataset = fix_datatypes_in_dataframe(full_dataset)\n",
        "\n",
        "# Preview dataset\n",
        "print(full_dataset.info())"
      ]
    },
    {
      "cell_type": "markdown",
      "metadata": {
        "id": "ODnUK9BtW0VW"
      },
      "source": [
        "Separate the features (X) and the label (Y)"
      ]
    },
    {
      "cell_type": "code",
      "execution_count": null,
      "metadata": {
        "id": "MK7eqJvQOyVs"
      },
      "outputs": [],
      "source": [
        "# full_dataset = full_dataset.drop(['streetName', 'agency'], axis=1) # If training for UI without categorical\n",
        "xgb_X_full = full_dataset.loc[:, full_dataset.columns != 'price']\n",
        "xgb_Y_full = full_dataset.loc[:, full_dataset.columns == 'price']"
      ]
    },
    {
      "cell_type": "markdown",
      "metadata": {
        "id": "aRbzTjePW8zW"
      },
      "source": [
        "Split data into a train set (*80%*) and a test set (*20%*)"
      ]
    },
    {
      "cell_type": "code",
      "execution_count": null,
      "metadata": {
        "id": "EUztCrkDPHnH"
      },
      "outputs": [],
      "source": [
        "from sklearn.model_selection import train_test_split\n",
        "seed = 7\n",
        "test_size = 0.20\n",
        "xgb_X_train, xgb_X_test, xgb_Y_train, xgb_Y_test = train_test_split(xgb_X_full, xgb_Y_full, test_size=test_size, random_state=seed, shuffle=False)"
      ]
    },
    {
      "cell_type": "markdown",
      "metadata": {
        "id": "-GccJBmXthAh"
      },
      "source": [
        "Initialize XGBOOST Regressor model and tune its hyperparameters"
      ]
    },
    {
      "cell_type": "code",
      "execution_count": null,
      "metadata": {
        "id": "yzot9lp2AFdj"
      },
      "outputs": [],
      "source": [
        "from xgboost import XGBRegressor\n",
        "# The following options are important because they enable the usage of \n",
        "#   categorical features: (tree_method=\"gpu_hist\", enable_categorical=True). \n",
        "#   (reference: https://xgboost.readthedocs.io/en/stable/tutorials/categorical.html)\n",
        "\n",
        "# Create temporary xgb regressor model:\n",
        "temp_model = XGBRegressor(tree_method=\"gpu_hist\", enable_categorical=True)\n",
        "\n",
        "# Perform Grid Search to find optimal hyperparameters:\n",
        "from sklearn.model_selection import GridSearchCV\n",
        "\n",
        "# Set up search grid\n",
        "param_grid = {\"max_depth\":    [4, 6, 8, 10],\n",
        "              \"n_estimators\": [500, 3000, 5000],\n",
        "              \"learning_rate\": [0.01, 1e-3, 1e-5]} # This was done more properly, this is mainly an exmaple\n",
        "\n",
        "# Try out every combination of the grid's values\n",
        "search = GridSearchCV(temp_model, param_grid, cv=5).fit(xgb_X_train, xgb_Y_train)\n",
        "\n",
        "print(\"The best hyperparameters are \",search.best_params_)"
      ]
    },
    {
      "cell_type": "code",
      "execution_count": null,
      "metadata": {
        "id": "XQVu7uClM6y2"
      },
      "outputs": [],
      "source": [
        "# Initialize XGBOOST Regressor and use GridSearch's recommended hyperparameter values\n",
        "xgb_model = XGBRegressor(tree_method=\"gpu_hist\", \n",
        "                     enable_categorical=True,\n",
        "                     learning_rate = search.best_params_[\"learning_rate\"],\n",
        "                     n_estimators  = search.best_params_[\"n_estimators\"],\n",
        "                     max_depth     = search.best_params_[\"max_depth\"]\n",
        "                     )"
      ]
    },
    {
      "cell_type": "markdown",
      "metadata": {
        "id": "wA8E4TzzTV7p"
      },
      "source": [
        "Train XGBOOST Regressor model"
      ]
    },
    {
      "cell_type": "code",
      "execution_count": null,
      "metadata": {
        "id": "PtcEwqKHcs1o"
      },
      "outputs": [],
      "source": [
        "# Train XGB Regressor\n",
        "xgb_model.fit(xgb_X_train, xgb_Y_train)\n",
        "\n",
        "# Generate training score\n",
        "train_score = xgb_model.score(xgb_X_train, xgb_Y_train)  \n",
        "print(\"Training score: \", train_score)"
      ]
    },
    {
      "cell_type": "markdown",
      "metadata": {
        "id": "_nzQdM6STr4n"
      },
      "source": [
        "Test XGBOOST Regressor model"
      ]
    },
    {
      "cell_type": "code",
      "execution_count": null,
      "metadata": {
        "id": "9revF9zEI4J8"
      },
      "outputs": [],
      "source": [
        "# Let the model predict on the test data\n",
        "xgb_Y_pred = xgb_model.predict(xgb_X_test)\n",
        "\n",
        "# Generate test score\n",
        "test_score = xgb_model.score(xgb_X_test, xgb_Y_test)\n",
        "print(\"Test score: \", test_score)"
      ]
    },
    {
      "cell_type": "markdown",
      "metadata": {
        "id": "fOPBmS3ZT-m3"
      },
      "source": [
        "Calculate performance metrics: *MAE* and *MAPE*"
      ]
    },
    {
      "cell_type": "code",
      "execution_count": null,
      "metadata": {
        "id": "FAdZpLXMqLhr"
      },
      "outputs": [],
      "source": [
        "xgb_df = pd.DataFrame()\n",
        "xgb_df['Target']=xgb_Y_test\n",
        "xgb_df['Prediction']=xgb_Y_pred\n",
        "\n",
        "xgb_df['pred_Diff_']=xgb_df['Prediction']-xgb_df['Target']\n",
        "xgb_df['pred_MAPE_']=(xgb_df['Prediction']-xgb_df['Target'])/xgb_df['Target']\n",
        "xgb_df['pred_MAE']=xgb_df['pred_Diff_'].abs()\n",
        "xgb_df['pred_MAPE']=xgb_df['pred_MAPE_'].abs()\n",
        "\n",
        "print('_____XGBOOST REGRESSOR_____')\n",
        "print('MAE: {}'.format(xgb_df['pred_MAE'].mean()))\n",
        "print('MAPE: {}'.format(xgb_df['pred_MAPE'].mean()))"
      ]
    },
    {
      "cell_type": "markdown",
      "metadata": {
        "id": "8R6yXWiwURI-"
      },
      "source": [
        "Plot the XGBOOST Regressor's predictions vs. correct values"
      ]
    },
    {
      "cell_type": "code",
      "execution_count": null,
      "metadata": {
        "id": "ak5kC9Cuflsq"
      },
      "outputs": [],
      "source": [
        "# Plot the model's predictions and the original values\n",
        "import matplotlib.pyplot as plt \n",
        "\n",
        "x_ax = range(len(xgb_Y_test))\n",
        "plt.plot(x_ax, xgb_Y_test, label=\"original\")\n",
        "plt.plot(x_ax, xgb_Y_test, label=\"predicted\")\n",
        "plt.title(\"XGBOOST Regressor performance\")\n",
        "plt.legend()\n",
        "plt.show()"
      ]
    },
    {
      "cell_type": "markdown",
      "metadata": {
        "id": "mVxAMpeToItG"
      },
      "source": [
        "Upload XGBOOST Regressor model to Hopsworks Model Registry"
      ]
    },
    {
      "cell_type": "code",
      "execution_count": null,
      "metadata": {
        "id": "9u7ELntcoNuR"
      },
      "outputs": [],
      "source": [
        "import os\n",
        "import joblib\n",
        "from hsml.schema import Schema\n",
        "from hsml.model_schema import ModelSchema\n",
        "\n",
        "# fs is a reference to the Hopsworks Feature Store\n",
        "fs = project.get_feature_store()\n",
        "\n",
        "# Create an object for the Hopsworks model registry\n",
        "mr = project.get_model_registry()\n",
        "\n",
        "# Create a directory in which the model is saved\n",
        "model_dir = \"xgboost_model\"\n",
        "if os.path.isdir(model_dir) == False:\n",
        "    os.mkdir(model_dir)\n",
        "joblib.dump(xgb_model, model_dir + \"/xgboost_model.pkl\")\n",
        "\n",
        "\n",
        "# Create a schema for the model which specifies the input (=X_train) and output (=y_train) data\n",
        "input_schema = Schema(xgb_X_train)\n",
        "output_schema = Schema(xgb_Y_train)\n",
        "model_schema = ModelSchema(input_schema, output_schema)\n",
        "\n",
        "# Create an entry for the model in the model registry\n",
        "xgboost_model = mr.python.create_model(\n",
        "  name=\"xgboost_model\",\n",
        "  version=3,\n",
        "  metrics={\"MAE\":xgb_df['pred_MAE'].mean(), \"MAPE\":xgb_df['pred_MAPE'].mean()},\n",
        "  model_schema=model_schema,\n",
        "  description=\"XGBOOST Regressor on Stockholm apartment sales data\"\n",
        ")\n",
        "\n",
        "# Upload the model to the model registry\n",
        "xgboost_model.save(model_dir)"
      ]
    },
    {
      "cell_type": "markdown",
      "metadata": {
        "id": "e9YWBwAxU1Pl"
      },
      "source": [
        "Download XGBOOST Regressor model from Hopsworks Model Registry"
      ]
    },
    {
      "cell_type": "code",
      "execution_count": null,
      "metadata": {
        "id": "RjSbJwOUB0Fa"
      },
      "outputs": [],
      "source": [
        "import joblib\n",
        "# Get the model from Hopsworks\n",
        "mr = project.get_model_registry()\n",
        "temp = mr.get_model(\"xgboost_model\", version=3)\n",
        "model_path = temp.download()\n",
        "\n",
        "xgb_model = joblib.load(model_path + \"/xgboost_model.pkl\")\n",
        "print(xgb_model)"
      ]
    },
    {
      "cell_type": "markdown",
      "metadata": {
        "id": "KEsKamByU4R3"
      },
      "source": [
        "## AUTOGLUON TABULAR PREDICTOR 🧠"
      ]
    },
    {
      "cell_type": "markdown",
      "metadata": {
        "id": "uaIBgkTKh1z7"
      },
      "source": [
        "Download full dataset from Hopsworks"
      ]
    },
    {
      "cell_type": "code",
      "execution_count": null,
      "metadata": {
        "colab": {
          "base_uri": "https://localhost:8080/",
          "height": 84,
          "referenced_widgets": [
            "8b42e0e1fb9848648a40b86bb92f42cd",
            "d827d6c1e864496099435ef15607afe5",
            "b645597b95a3407b856ce4e6923b2fbf",
            "55276868e7ed478e876df1d8ffa37538",
            "af4e0145cf2443f0bd638b2f00dcd487",
            "1d9f29abd8884d46b3675bb8246be6ba",
            "fbf8f277508c466b85768405e8af2bc6",
            "63e1ec0955ca411eab2f42cde18b33a7",
            "cac0ffcfc13245e58649e29cf3f99bca",
            "47ac6f57f99140d1a6620563efac277e",
            "18dba4b488df4e08ad8834f60d722021"
          ]
        },
        "id": "BBkMEhpnh0QH",
        "outputId": "1629da00-fcea-419a-8b36-cfeed1696dcb"
      },
      "outputs": [],
      "source": [
        "# Download full dataset from Hopsworks\n",
        "HW_PATH = \"/Projects/alexao00/Project/features.csv\"\n",
        "LOCAL_PATH = \"/content\"\n",
        "\n",
        "downloaded_file_path = dataset_api.download(\n",
        "    HW_PATH, \n",
        "    local_path = LOCAL_PATH, overwrite=True)\n",
        "print('The following file has been succesfully downloaded from Hopsworks and is available at:' + '\\n' + downloaded_file_path)"
      ]
    },
    {
      "cell_type": "markdown",
      "metadata": {
        "id": "vWyWN3ysXFC_"
      },
      "source": [
        "Load dataset and assign correct datatypes\n",
        "\n"
      ]
    },
    {
      "cell_type": "code",
      "execution_count": null,
      "metadata": {
        "id": "LuGwbrsqSAQi"
      },
      "outputs": [],
      "source": [
        "import pandas as pd\n",
        "full_dataset = pd.read_csv (\"/content/features.csv\", sep=\";\")\n",
        "full_dataset = fix_datatypes_in_dataframe(full_dataset)"
      ]
    },
    {
      "cell_type": "markdown",
      "metadata": {
        "id": "ttVhyY9bXTwF"
      },
      "source": [
        "Dataset preparation\n",
        "\n"
      ]
    },
    {
      "cell_type": "code",
      "execution_count": null,
      "metadata": {
        "id": "iZwtcEjbkjvB"
      },
      "outputs": [],
      "source": [
        "# Separate the features (X) and the label (Y)\n",
        "ag_X_full = full_dataset.loc[:, full_dataset.columns != 'price']\n",
        "ag_Y_full = full_dataset.loc[:, full_dataset.columns == 'price']\n",
        "\n",
        "# Split data into a train set (80%) and a test set (20%)\n",
        "from sklearn.model_selection import train_test_split\n",
        "seed = 7\n",
        "test_size = 0.20\n",
        "ag_X_train, ag_X_test, ag_Y_train, ag_Y_test = train_test_split(ag_X_full, ag_Y_full, test_size=test_size, random_state=seed, shuffle=False)\n",
        "\n",
        "# Concatenate ag_X_train and ag_Y_train:\n",
        "ag_XY_train = pd.concat([ag_X_train, ag_Y_train], axis=1)"
      ]
    },
    {
      "cell_type": "markdown",
      "metadata": {
        "id": "xuox8uAWZU6F"
      },
      "source": [
        "Delete previous AutoGluon models from Colab\n",
        "\n",
        "\n",
        "\n"
      ]
    },
    {
      "cell_type": "code",
      "execution_count": null,
      "metadata": {
        "id": "EkqufkSpZUY1"
      },
      "outputs": [],
      "source": [
        "!rm -rf \"/content/AutogluonModels/\""
      ]
    },
    {
      "cell_type": "markdown",
      "metadata": {
        "id": "5qkGPFZ_X3bM"
      },
      "source": [
        "Initialize and train Autogluon Tabular Predictor"
      ]
    },
    {
      "cell_type": "code",
      "execution_count": null,
      "metadata": {
        "colab": {
          "base_uri": "https://localhost:8080/",
          "height": 1000
        },
        "id": "1fy_wdwNRChL",
        "outputId": "adcb6b64-92e3-413c-bc08-5ce460d69746"
      },
      "outputs": [],
      "source": [
        "from autogluon.tabular import TabularPredictor\n",
        "\n",
        "# Choose label\n",
        "label = 'price'\n",
        "\n",
        "# Choose model name\n",
        "ag_model_name = \"ag_model_20230109\"\n",
        "ag_model_folder_path = \"/content/AutogluonModels/\" + ag_model_name\n",
        "\n",
        "\n",
        "predictor = TabularPredictor(label=label,\n",
        "                             path=ag_model_folder_path,\n",
        "                             eval_metric='root_mean_squared_error').fit(\n",
        "    ag_XY_train,\n",
        "    auto_stack=True,\n",
        "    time_limit=30*60,\n",
        "    num_gpus=0,\n",
        ")\n",
        "                             \n",
        "# ___ Notes ___                             \n",
        "# \"time_limit\" is in seconds\n",
        "# num_gpus=0 --> Use CPU\n",
        "# num_gpus=1 --> Use GPU"
      ]
    },
    {
      "cell_type": "markdown",
      "metadata": {
        "id": "iFFoimYVYbVh"
      },
      "source": [
        "Test Autogluon Tabular Predictor"
      ]
    },
    {
      "cell_type": "code",
      "execution_count": null,
      "metadata": {
        "colab": {
          "base_uri": "https://localhost:8080/"
        },
        "id": "Hc69gHIaUE47",
        "outputId": "f576b3d2-d8b6-486e-cade-ec60ded74d8c"
      },
      "outputs": [],
      "source": [
        "# Load model\n",
        "predictor = TabularPredictor.load(ag_model_folder_path)\n",
        "\n",
        "# Let model predict on test data\n",
        "ag_Y_pred = predictor.predict(ag_X_test)\n",
        "\n",
        "# Summarize results\n",
        "predictor.fit_summary(show_plot=True)"
      ]
    },
    {
      "cell_type": "markdown",
      "metadata": {
        "id": "F2U5nWqFYn9R"
      },
      "source": [
        "Calculate performance metrics *MAE* and *MAPE*"
      ]
    },
    {
      "cell_type": "code",
      "execution_count": null,
      "metadata": {
        "colab": {
          "base_uri": "https://localhost:8080/"
        },
        "id": "4lGC55iBUlCL",
        "outputId": "a87a7c41-faae-4913-908e-46dcfb48a782"
      },
      "outputs": [],
      "source": [
        "ag_df = pd.DataFrame()\n",
        "ag_df['Target']= ag_Y_test\n",
        "ag_df['Prediction']=ag_Y_pred\n",
        "\n",
        "ag_df['pred_Diff_']=ag_df['Prediction']-ag_df['Target']\n",
        "ag_df['pred_MAPE_']=(ag_df['Prediction']-ag_df['Target'])/ag_df['Target']\n",
        "ag_df['pred_MAE']=ag_df['pred_Diff_'].abs()\n",
        "ag_df['pred_MAPE']=ag_df['pred_MAPE_'].abs()\n",
        "print('_____AUTOGLUON_____')\n",
        "print('MAE: {}'.format(ag_df['pred_MAE'].mean()))\n",
        "print('MAPE: {}'.format(ag_df['pred_MAPE'].mean()))"
      ]
    },
    {
      "cell_type": "markdown",
      "metadata": {
        "id": "QnG0MmBIYziB"
      },
      "source": [
        "Upload AutoGluon Tabular Predictor to Hopsworks Model Registry"
      ]
    },
    {
      "cell_type": "code",
      "execution_count": null,
      "metadata": {
        "colab": {
          "base_uri": "https://localhost:8080/",
          "height": 173,
          "referenced_widgets": [
            "fe01908091af4af0813e4721fd6a49d4",
            "37cc67b6cf064bd3bc1cac73ec74df4d",
            "b9e0f3de11cd401dae3546d2be192f75",
            "3cff8b422f0d497e8c83e544ae5f9a51",
            "edd78dd9130e4a318440f23725dca175",
            "2d58bcc233f14b89b11be2a307523f3d",
            "8291dc6b596148928f8f548ede3442cc",
            "a19e1382d75841c1addf4b45a6df16e9",
            "08669900bd0743edbe47883410d5e6be",
            "72237a1fe6a14c06a0c2d99ae1045d9f",
            "cf076d879d0d4fe8ae2241bbed24d4df"
          ]
        },
        "id": "RnoYOFnuL2I8",
        "outputId": "e75df4e4-884d-4281-9f5d-3437c30a4e57"
      },
      "outputs": [],
      "source": [
        "import os\n",
        "from hsml.schema import Schema\n",
        "from hsml.model_schema import ModelSchema\n",
        "\n",
        "# fs is a reference to the Hopsworks Feature Store\n",
        "fs = project.get_feature_store()\n",
        "\n",
        "# Create an object for the Hopsworks model registry\n",
        "mr = project.get_model_registry()\n",
        "\n",
        "# Create a schema for the model which specifies the input (=X_train) and output (=y_train) data\n",
        "ag_input_schema = Schema(ag_X_train)\n",
        "ag_output_schema = Schema(ag_Y_train)\n",
        "ag_model_schema = ModelSchema(ag_input_schema, ag_output_schema)\n",
        "\n",
        "# Create an entry for the model in the model registry\n",
        "ag_model = mr.python.create_model(\n",
        "  name=\"ag_model_20230109\",\n",
        "  version=2,\n",
        "  metrics={\"MAE\":ag_df['pred_MAE'].mean(), \"MAPE\":ag_df['pred_MAPE'].mean()},\n",
        "  model_schema=ag_model_schema,\n",
        "  description=\"AutoGluon Tabular Predictor on Stockholm apartment sales data\"\n",
        ")\n",
        "\n",
        "# Upload the model to the model registry\n",
        "ag_folder_path = \"/content/AutogluonModels\"\n",
        "ag_model.save(ag_folder_path)"
      ]
    },
    {
      "cell_type": "markdown",
      "metadata": {
        "id": "5_VsqTCSZn-g"
      },
      "source": [
        "Download AutoGluon Tabular Predictor model from Hopsworks Model Registry"
      ]
    },
    {
      "cell_type": "code",
      "execution_count": null,
      "metadata": {
        "colab": {
          "base_uri": "https://localhost:8080/"
        },
        "id": "vrhsBeizhrMe",
        "outputId": "c819fdab-649d-4c73-d958-af4a70e06391"
      },
      "outputs": [],
      "source": [
        "# Get the model from Hopsworks\n",
        "mr = project.get_model_registry()\n",
        "temp = mr.get_model(\"ag_model_20230109\", version=2)\n",
        "ag_downloaded_folder_path = temp.download()\n",
        "\n",
        "print(ag_downloaded_folder_path)"
      ]
    },
    {
      "cell_type": "code",
      "execution_count": null,
      "metadata": {
        "colab": {
          "base_uri": "https://localhost:8080/",
          "height": 37
        },
        "id": "VPm1g1zgvuKE",
        "outputId": "f50374fe-6cf4-4cf3-a4b3-afed0c35f94f"
      },
      "outputs": [],
      "source": [
        "# Move Autogluon model folder to the correct folder\n",
        "import shutil\n",
        "original = ag_downloaded_folder_path\n",
        "target = \"/content/AutogluonModels\"\n",
        "\n",
        "shutil.move(original, target)"
      ]
    },
    {
      "cell_type": "markdown",
      "metadata": {
        "id": "7aTx4Uhmcdu3"
      },
      "source": [
        "Load AutoGluon model"
      ]
    },
    {
      "cell_type": "code",
      "execution_count": null,
      "metadata": {
        "id": "8dsnitaAhyRW"
      },
      "outputs": [],
      "source": [
        "# Use the following path: \"/content/AutogluonModels/[model version]/\"+ag_model_name\n",
        "predictor = TabularPredictor.load(\"/content/AutogluonModels/5/\"+ag_model_name)"
      ]
    },
    {
      "cell_type": "markdown",
      "metadata": {
        "id": "AVCx57sF8Ltl"
      },
      "source": [
        "\n",
        "\n",
        "---\n",
        "\n",
        "\n",
        "# Alternative approach: ZIP AutoGluon model and save it to Hopsworks File Browser \n",
        "### Save model\n",
        "1.   Compress Autogluon model folder to a zip-file\n",
        "2.   Upload zip-file to Hopsworks\n",
        "\n",
        "### Reuse model\n",
        "1.   Download zip-file from Hopsworks to Colab\n",
        "2.   Unzip the file\n",
        "3.   Move output to correct folder\n",
        "4.   Delete the leftover folder\n"
      ]
    },
    {
      "cell_type": "code",
      "execution_count": null,
      "metadata": {
        "colab": {
          "base_uri": "https://localhost:8080/"
        },
        "id": "gM5FLzD7RDjj",
        "outputId": "c69d4adf-add0-4986-a18a-6eb11643848a"
      },
      "outputs": [],
      "source": [
        "# Zip folder\n",
        "!zip -r {ag_model_folder_path}.zip {ag_model_folder_path}"
      ]
    },
    {
      "cell_type": "code",
      "execution_count": null,
      "metadata": {
        "colab": {
          "base_uri": "https://localhost:8080/",
          "referenced_widgets": [
            "fd38edc4486f426c951be1f7e9f97a20",
            "4061c3d62cab49a4beede76035ea4099",
            "0ad2810d39204c22ae3ff3a5fc00c93e",
            "8af9dd2e01224addb9bc3abdc50b264c",
            "77c8d3201f7d49ab9216fe47b631a545",
            "4e676e20665f40bb9a9403e8de012c77",
            "6ddf852567c84b2b9162bbf3f7c533c7",
            "a223da807a5649cab9754e7c1098ccb8",
            "6cb1e8d9427e4bf3a56b10a14695503e",
            "be6df3cb77414050a6e33efff3356a76",
            "1d89a70355934bc8bf785c633ee5b570"
          ]
        },
        "id": "wmJY3GO2ZXse",
        "outputId": "57fd2b51-6101-47e6-b0e0-f634515ae09e"
      },
      "outputs": [],
      "source": [
        "# Upload zip-file to Hopsworks\n",
        "import os\n",
        "\n",
        "LOCAL_PATH = ag_model_folder_path + \".zip\"\n",
        "UPLOAD_PATH = \"/Projects/alexao00/Project/\"\n",
        "\n",
        "dataset_api = project.get_dataset_api()\n",
        "\n",
        "ag_hw_path = dataset_api.upload(\n",
        "    local_path = LOCAL_PATH, \n",
        "    upload_path = UPLOAD_PATH, overwrite=True)\n",
        "\n",
        "print('The following file has been succesfully added to Hopsworks and is available at:' + '\\n' + ag_hw_path)"
      ]
    },
    {
      "cell_type": "code",
      "execution_count": null,
      "metadata": {
        "colab": {
          "base_uri": "https://localhost:8080/",
          "referenced_widgets": [
            "f49c85204c054346935f4fd2b6650158",
            "861d017078fb47258f3e112fc27e5600",
            "47b586c78cab4395a4e4caab6338d23e",
            "0af7608293414ddfae49f319b43ca931",
            "9b75c6ce68ae47c28fd89f55fe8df1a3",
            "41e246b631b94013884f2c52f58e8a0d",
            "dc6c3daf14304735bfb3cf9d53ffe3ff",
            "d5dfe05453ef4c09aa6ad6730d4aba97",
            "eb8eb491d1284f3c83ae28d0caa84f9e",
            "3fe799e1a95b43b8b28190884a679b40",
            "f46f4ff514ef4f62b105316e5810bc9e"
          ]
        },
        "id": "do7l01n87MCA",
        "outputId": "4591f79a-09af-47f1-e17b-b37f15ef9ca5"
      },
      "outputs": [],
      "source": [
        "# Download saved Autogluon model from Hopsworks and then unzip\n",
        "HW_PATH = ag_hw_path\n",
        "LOCAL_PATH = \"/content\"\n",
        "\n",
        "ag_downloaded_file_path = dataset_api.download(\n",
        "    HW_PATH, \n",
        "    local_path = LOCAL_PATH, overwrite=True)\n",
        "print('The following file has been succesfully downloaded from Hopsworks and is available at:' + '\\n' + ag_downloaded_file_path)"
      ]
    },
    {
      "cell_type": "code",
      "execution_count": null,
      "metadata": {
        "colab": {
          "base_uri": "https://localhost:8080/"
        },
        "id": "kCD_WW5jbkFR",
        "outputId": "0edf1612-c933-4352-8f77-7883a1f7249f"
      },
      "outputs": [],
      "source": [
        "# Unzip Autogluon model\n",
        "!unzip \"{ag_downloaded_file_path}\" -d \"zip_output\"\n",
        "\n",
        "# Move Autogluon model folder to the correct folder\n",
        "import shutil\n",
        "original = r\"/content/zip_output/content/AutogluonModels/\" + ag_model_name\n",
        "target = r\"/content/AutogluonModels\"\n",
        "!rm -rf {ag_model_folder_path}  # Delete existing folder to avert overwrite error\n",
        "shutil.move(original, target)\n",
        "\n",
        "# Clean up by removing the empty folder\n",
        "!rm -rf \"/content/zip_output\""
      ]
    }
  ],
  "metadata": {
    "accelerator": "GPU",
    "colab": {
      "provenance": []
    },
    "gpuClass": "standard",
    "kernelspec": {
      "display_name": "hopwsworks",
      "language": "python",
      "name": "python3"
    },
    "language_info": {
      "name": "python",
      "version": "3.7.15 (default, Nov 24 2022, 18:44:54) [MSC v.1916 64 bit (AMD64)]"
    },
    "vscode": {
      "interpreter": {
        "hash": "628637fecacf68ad26818e09d0379a8257cc22683b63df3b41efcec45eca79ae"
      }
    },
    "widgets": {
      "application/vnd.jupyter.widget-state+json": {
        "08669900bd0743edbe47883410d5e6be": {
          "model_module": "@jupyter-widgets/controls",
          "model_module_version": "1.5.0",
          "model_name": "ProgressStyleModel",
          "state": {
            "_model_module": "@jupyter-widgets/controls",
            "_model_module_version": "1.5.0",
            "_model_name": "ProgressStyleModel",
            "_view_count": null,
            "_view_module": "@jupyter-widgets/base",
            "_view_module_version": "1.2.0",
            "_view_name": "StyleView",
            "bar_color": null,
            "description_width": ""
          }
        },
        "0ad2810d39204c22ae3ff3a5fc00c93e": {
          "model_module": "@jupyter-widgets/controls",
          "model_module_version": "1.5.0",
          "model_name": "FloatProgressModel",
          "state": {
            "_dom_classes": [],
            "_model_module": "@jupyter-widgets/controls",
            "_model_module_version": "1.5.0",
            "_model_name": "FloatProgressModel",
            "_view_count": null,
            "_view_module": "@jupyter-widgets/controls",
            "_view_module_version": "1.5.0",
            "_view_name": "ProgressView",
            "bar_style": "success",
            "description": "",
            "description_tooltip": null,
            "layout": "IPY_MODEL_a223da807a5649cab9754e7c1098ccb8",
            "max": 184676238,
            "min": 0,
            "orientation": "horizontal",
            "style": "IPY_MODEL_6cb1e8d9427e4bf3a56b10a14695503e",
            "value": 184676238
          }
        },
        "0af7608293414ddfae49f319b43ca931": {
          "model_module": "@jupyter-widgets/controls",
          "model_module_version": "1.5.0",
          "model_name": "HTMLModel",
          "state": {
            "_dom_classes": [],
            "_model_module": "@jupyter-widgets/controls",
            "_model_module_version": "1.5.0",
            "_model_name": "HTMLModel",
            "_view_count": null,
            "_view_module": "@jupyter-widgets/controls",
            "_view_module_version": "1.5.0",
            "_view_name": "HTMLView",
            "description": "",
            "description_tooltip": null,
            "layout": "IPY_MODEL_3fe799e1a95b43b8b28190884a679b40",
            "placeholder": "​",
            "style": "IPY_MODEL_f46f4ff514ef4f62b105316e5810bc9e",
            "value": " 184676238/184676238 elapsed&lt;00:22 remaining&lt;00:00"
          }
        },
        "18dba4b488df4e08ad8834f60d722021": {
          "model_module": "@jupyter-widgets/controls",
          "model_module_version": "1.5.0",
          "model_name": "DescriptionStyleModel",
          "state": {
            "_model_module": "@jupyter-widgets/controls",
            "_model_module_version": "1.5.0",
            "_model_name": "DescriptionStyleModel",
            "_view_count": null,
            "_view_module": "@jupyter-widgets/base",
            "_view_module_version": "1.2.0",
            "_view_name": "StyleView",
            "description_width": ""
          }
        },
        "1d89a70355934bc8bf785c633ee5b570": {
          "model_module": "@jupyter-widgets/controls",
          "model_module_version": "1.5.0",
          "model_name": "DescriptionStyleModel",
          "state": {
            "_model_module": "@jupyter-widgets/controls",
            "_model_module_version": "1.5.0",
            "_model_name": "DescriptionStyleModel",
            "_view_count": null,
            "_view_module": "@jupyter-widgets/base",
            "_view_module_version": "1.2.0",
            "_view_name": "StyleView",
            "description_width": ""
          }
        },
        "1d9f29abd8884d46b3675bb8246be6ba": {
          "model_module": "@jupyter-widgets/base",
          "model_module_version": "1.2.0",
          "model_name": "LayoutModel",
          "state": {
            "_model_module": "@jupyter-widgets/base",
            "_model_module_version": "1.2.0",
            "_model_name": "LayoutModel",
            "_view_count": null,
            "_view_module": "@jupyter-widgets/base",
            "_view_module_version": "1.2.0",
            "_view_name": "LayoutView",
            "align_content": null,
            "align_items": null,
            "align_self": null,
            "border": null,
            "bottom": null,
            "display": null,
            "flex": null,
            "flex_flow": null,
            "grid_area": null,
            "grid_auto_columns": null,
            "grid_auto_flow": null,
            "grid_auto_rows": null,
            "grid_column": null,
            "grid_gap": null,
            "grid_row": null,
            "grid_template_areas": null,
            "grid_template_columns": null,
            "grid_template_rows": null,
            "height": null,
            "justify_content": null,
            "justify_items": null,
            "left": null,
            "margin": null,
            "max_height": null,
            "max_width": null,
            "min_height": null,
            "min_width": null,
            "object_fit": null,
            "object_position": null,
            "order": null,
            "overflow": null,
            "overflow_x": null,
            "overflow_y": null,
            "padding": null,
            "right": null,
            "top": null,
            "visibility": null,
            "width": null
          }
        },
        "2d58bcc233f14b89b11be2a307523f3d": {
          "model_module": "@jupyter-widgets/base",
          "model_module_version": "1.2.0",
          "model_name": "LayoutModel",
          "state": {
            "_model_module": "@jupyter-widgets/base",
            "_model_module_version": "1.2.0",
            "_model_name": "LayoutModel",
            "_view_count": null,
            "_view_module": "@jupyter-widgets/base",
            "_view_module_version": "1.2.0",
            "_view_name": "LayoutView",
            "align_content": null,
            "align_items": null,
            "align_self": null,
            "border": null,
            "bottom": null,
            "display": null,
            "flex": null,
            "flex_flow": null,
            "grid_area": null,
            "grid_auto_columns": null,
            "grid_auto_flow": null,
            "grid_auto_rows": null,
            "grid_column": null,
            "grid_gap": null,
            "grid_row": null,
            "grid_template_areas": null,
            "grid_template_columns": null,
            "grid_template_rows": null,
            "height": null,
            "justify_content": null,
            "justify_items": null,
            "left": null,
            "margin": null,
            "max_height": null,
            "max_width": null,
            "min_height": null,
            "min_width": null,
            "object_fit": null,
            "object_position": null,
            "order": null,
            "overflow": null,
            "overflow_x": null,
            "overflow_y": null,
            "padding": null,
            "right": null,
            "top": null,
            "visibility": null,
            "width": null
          }
        },
        "36913340b3f645b39fad9e0f60cdce74": {
          "model_module": "@jupyter-widgets/base",
          "model_module_version": "1.2.0",
          "model_name": "LayoutModel",
          "state": {
            "_model_module": "@jupyter-widgets/base",
            "_model_module_version": "1.2.0",
            "_model_name": "LayoutModel",
            "_view_count": null,
            "_view_module": "@jupyter-widgets/base",
            "_view_module_version": "1.2.0",
            "_view_name": "LayoutView",
            "align_content": null,
            "align_items": null,
            "align_self": null,
            "border": null,
            "bottom": null,
            "display": null,
            "flex": null,
            "flex_flow": null,
            "grid_area": null,
            "grid_auto_columns": null,
            "grid_auto_flow": null,
            "grid_auto_rows": null,
            "grid_column": null,
            "grid_gap": null,
            "grid_row": null,
            "grid_template_areas": null,
            "grid_template_columns": null,
            "grid_template_rows": null,
            "height": null,
            "justify_content": null,
            "justify_items": null,
            "left": null,
            "margin": null,
            "max_height": null,
            "max_width": null,
            "min_height": null,
            "min_width": null,
            "object_fit": null,
            "object_position": null,
            "order": null,
            "overflow": null,
            "overflow_x": null,
            "overflow_y": null,
            "padding": null,
            "right": null,
            "top": null,
            "visibility": null,
            "width": null
          }
        },
        "37cc67b6cf064bd3bc1cac73ec74df4d": {
          "model_module": "@jupyter-widgets/controls",
          "model_module_version": "1.5.0",
          "model_name": "HTMLModel",
          "state": {
            "_dom_classes": [],
            "_model_module": "@jupyter-widgets/controls",
            "_model_module_version": "1.5.0",
            "_model_name": "HTMLModel",
            "_view_count": null,
            "_view_module": "@jupyter-widgets/controls",
            "_view_module_version": "1.5.0",
            "_view_name": "HTMLView",
            "description": "",
            "description_tooltip": null,
            "layout": "IPY_MODEL_2d58bcc233f14b89b11be2a307523f3d",
            "placeholder": "​",
            "style": "IPY_MODEL_8291dc6b596148928f8f548ede3442cc",
            "value": "Model export complete: 100%"
          }
        },
        "381b3b2d777547e1a575f5bf22db7475": {
          "model_module": "@jupyter-widgets/controls",
          "model_module_version": "1.5.0",
          "model_name": "HTMLModel",
          "state": {
            "_dom_classes": [],
            "_model_module": "@jupyter-widgets/controls",
            "_model_module_version": "1.5.0",
            "_model_name": "HTMLModel",
            "_view_count": null,
            "_view_module": "@jupyter-widgets/controls",
            "_view_module_version": "1.5.0",
            "_view_name": "HTMLView",
            "description": "",
            "description_tooltip": null,
            "layout": "IPY_MODEL_396ad7c56f274414916ed480a0c52c83",
            "placeholder": "​",
            "style": "IPY_MODEL_f7daa62bf33546bdb45f60416f36a7fe",
            "value": "Downloading: 100.000%"
          }
        },
        "396ad7c56f274414916ed480a0c52c83": {
          "model_module": "@jupyter-widgets/base",
          "model_module_version": "1.2.0",
          "model_name": "LayoutModel",
          "state": {
            "_model_module": "@jupyter-widgets/base",
            "_model_module_version": "1.2.0",
            "_model_name": "LayoutModel",
            "_view_count": null,
            "_view_module": "@jupyter-widgets/base",
            "_view_module_version": "1.2.0",
            "_view_name": "LayoutView",
            "align_content": null,
            "align_items": null,
            "align_self": null,
            "border": null,
            "bottom": null,
            "display": null,
            "flex": null,
            "flex_flow": null,
            "grid_area": null,
            "grid_auto_columns": null,
            "grid_auto_flow": null,
            "grid_auto_rows": null,
            "grid_column": null,
            "grid_gap": null,
            "grid_row": null,
            "grid_template_areas": null,
            "grid_template_columns": null,
            "grid_template_rows": null,
            "height": null,
            "justify_content": null,
            "justify_items": null,
            "left": null,
            "margin": null,
            "max_height": null,
            "max_width": null,
            "min_height": null,
            "min_width": null,
            "object_fit": null,
            "object_position": null,
            "order": null,
            "overflow": null,
            "overflow_x": null,
            "overflow_y": null,
            "padding": null,
            "right": null,
            "top": null,
            "visibility": null,
            "width": null
          }
        },
        "3cff8b422f0d497e8c83e544ae5f9a51": {
          "model_module": "@jupyter-widgets/controls",
          "model_module_version": "1.5.0",
          "model_name": "HTMLModel",
          "state": {
            "_dom_classes": [],
            "_model_module": "@jupyter-widgets/controls",
            "_model_module_version": "1.5.0",
            "_model_name": "HTMLModel",
            "_view_count": null,
            "_view_module": "@jupyter-widgets/controls",
            "_view_module_version": "1.5.0",
            "_view_name": "HTMLView",
            "description": "",
            "description_tooltip": null,
            "layout": "IPY_MODEL_72237a1fe6a14c06a0c2d99ae1045d9f",
            "placeholder": "​",
            "style": "IPY_MODEL_cf076d879d0d4fe8ae2241bbed24d4df",
            "value": " 6/6 [00:49&lt;00:00,  9.80s/it]"
          }
        },
        "3fe799e1a95b43b8b28190884a679b40": {
          "model_module": "@jupyter-widgets/base",
          "model_module_version": "1.2.0",
          "model_name": "LayoutModel",
          "state": {
            "_model_module": "@jupyter-widgets/base",
            "_model_module_version": "1.2.0",
            "_model_name": "LayoutModel",
            "_view_count": null,
            "_view_module": "@jupyter-widgets/base",
            "_view_module_version": "1.2.0",
            "_view_name": "LayoutView",
            "align_content": null,
            "align_items": null,
            "align_self": null,
            "border": null,
            "bottom": null,
            "display": null,
            "flex": null,
            "flex_flow": null,
            "grid_area": null,
            "grid_auto_columns": null,
            "grid_auto_flow": null,
            "grid_auto_rows": null,
            "grid_column": null,
            "grid_gap": null,
            "grid_row": null,
            "grid_template_areas": null,
            "grid_template_columns": null,
            "grid_template_rows": null,
            "height": null,
            "justify_content": null,
            "justify_items": null,
            "left": null,
            "margin": null,
            "max_height": null,
            "max_width": null,
            "min_height": null,
            "min_width": null,
            "object_fit": null,
            "object_position": null,
            "order": null,
            "overflow": null,
            "overflow_x": null,
            "overflow_y": null,
            "padding": null,
            "right": null,
            "top": null,
            "visibility": null,
            "width": null
          }
        },
        "4061c3d62cab49a4beede76035ea4099": {
          "model_module": "@jupyter-widgets/controls",
          "model_module_version": "1.5.0",
          "model_name": "HTMLModel",
          "state": {
            "_dom_classes": [],
            "_model_module": "@jupyter-widgets/controls",
            "_model_module_version": "1.5.0",
            "_model_name": "HTMLModel",
            "_view_count": null,
            "_view_module": "@jupyter-widgets/controls",
            "_view_module_version": "1.5.0",
            "_view_name": "HTMLView",
            "description": "",
            "description_tooltip": null,
            "layout": "IPY_MODEL_4e676e20665f40bb9a9403e8de012c77",
            "placeholder": "​",
            "style": "IPY_MODEL_6ddf852567c84b2b9162bbf3f7c533c7",
            "value": "Uploading: 100.000%"
          }
        },
        "41e246b631b94013884f2c52f58e8a0d": {
          "model_module": "@jupyter-widgets/base",
          "model_module_version": "1.2.0",
          "model_name": "LayoutModel",
          "state": {
            "_model_module": "@jupyter-widgets/base",
            "_model_module_version": "1.2.0",
            "_model_name": "LayoutModel",
            "_view_count": null,
            "_view_module": "@jupyter-widgets/base",
            "_view_module_version": "1.2.0",
            "_view_name": "LayoutView",
            "align_content": null,
            "align_items": null,
            "align_self": null,
            "border": null,
            "bottom": null,
            "display": null,
            "flex": null,
            "flex_flow": null,
            "grid_area": null,
            "grid_auto_columns": null,
            "grid_auto_flow": null,
            "grid_auto_rows": null,
            "grid_column": null,
            "grid_gap": null,
            "grid_row": null,
            "grid_template_areas": null,
            "grid_template_columns": null,
            "grid_template_rows": null,
            "height": null,
            "justify_content": null,
            "justify_items": null,
            "left": null,
            "margin": null,
            "max_height": null,
            "max_width": null,
            "min_height": null,
            "min_width": null,
            "object_fit": null,
            "object_position": null,
            "order": null,
            "overflow": null,
            "overflow_x": null,
            "overflow_y": null,
            "padding": null,
            "right": null,
            "top": null,
            "visibility": null,
            "width": null
          }
        },
        "47ac6f57f99140d1a6620563efac277e": {
          "model_module": "@jupyter-widgets/base",
          "model_module_version": "1.2.0",
          "model_name": "LayoutModel",
          "state": {
            "_model_module": "@jupyter-widgets/base",
            "_model_module_version": "1.2.0",
            "_model_name": "LayoutModel",
            "_view_count": null,
            "_view_module": "@jupyter-widgets/base",
            "_view_module_version": "1.2.0",
            "_view_name": "LayoutView",
            "align_content": null,
            "align_items": null,
            "align_self": null,
            "border": null,
            "bottom": null,
            "display": null,
            "flex": null,
            "flex_flow": null,
            "grid_area": null,
            "grid_auto_columns": null,
            "grid_auto_flow": null,
            "grid_auto_rows": null,
            "grid_column": null,
            "grid_gap": null,
            "grid_row": null,
            "grid_template_areas": null,
            "grid_template_columns": null,
            "grid_template_rows": null,
            "height": null,
            "justify_content": null,
            "justify_items": null,
            "left": null,
            "margin": null,
            "max_height": null,
            "max_width": null,
            "min_height": null,
            "min_width": null,
            "object_fit": null,
            "object_position": null,
            "order": null,
            "overflow": null,
            "overflow_x": null,
            "overflow_y": null,
            "padding": null,
            "right": null,
            "top": null,
            "visibility": null,
            "width": null
          }
        },
        "47b586c78cab4395a4e4caab6338d23e": {
          "model_module": "@jupyter-widgets/controls",
          "model_module_version": "1.5.0",
          "model_name": "FloatProgressModel",
          "state": {
            "_dom_classes": [],
            "_model_module": "@jupyter-widgets/controls",
            "_model_module_version": "1.5.0",
            "_model_name": "FloatProgressModel",
            "_view_count": null,
            "_view_module": "@jupyter-widgets/controls",
            "_view_module_version": "1.5.0",
            "_view_name": "ProgressView",
            "bar_style": "success",
            "description": "",
            "description_tooltip": null,
            "layout": "IPY_MODEL_d5dfe05453ef4c09aa6ad6730d4aba97",
            "max": 184676238,
            "min": 0,
            "orientation": "horizontal",
            "style": "IPY_MODEL_eb8eb491d1284f3c83ae28d0caa84f9e",
            "value": 184676238
          }
        },
        "4e676e20665f40bb9a9403e8de012c77": {
          "model_module": "@jupyter-widgets/base",
          "model_module_version": "1.2.0",
          "model_name": "LayoutModel",
          "state": {
            "_model_module": "@jupyter-widgets/base",
            "_model_module_version": "1.2.0",
            "_model_name": "LayoutModel",
            "_view_count": null,
            "_view_module": "@jupyter-widgets/base",
            "_view_module_version": "1.2.0",
            "_view_name": "LayoutView",
            "align_content": null,
            "align_items": null,
            "align_self": null,
            "border": null,
            "bottom": null,
            "display": null,
            "flex": null,
            "flex_flow": null,
            "grid_area": null,
            "grid_auto_columns": null,
            "grid_auto_flow": null,
            "grid_auto_rows": null,
            "grid_column": null,
            "grid_gap": null,
            "grid_row": null,
            "grid_template_areas": null,
            "grid_template_columns": null,
            "grid_template_rows": null,
            "height": null,
            "justify_content": null,
            "justify_items": null,
            "left": null,
            "margin": null,
            "max_height": null,
            "max_width": null,
            "min_height": null,
            "min_width": null,
            "object_fit": null,
            "object_position": null,
            "order": null,
            "overflow": null,
            "overflow_x": null,
            "overflow_y": null,
            "padding": null,
            "right": null,
            "top": null,
            "visibility": null,
            "width": null
          }
        },
        "55276868e7ed478e876df1d8ffa37538": {
          "model_module": "@jupyter-widgets/controls",
          "model_module_version": "1.5.0",
          "model_name": "HTMLModel",
          "state": {
            "_dom_classes": [],
            "_model_module": "@jupyter-widgets/controls",
            "_model_module_version": "1.5.0",
            "_model_name": "HTMLModel",
            "_view_count": null,
            "_view_module": "@jupyter-widgets/controls",
            "_view_module_version": "1.5.0",
            "_view_name": "HTMLView",
            "description": "",
            "description_tooltip": null,
            "layout": "IPY_MODEL_47ac6f57f99140d1a6620563efac277e",
            "placeholder": "​",
            "style": "IPY_MODEL_18dba4b488df4e08ad8834f60d722021",
            "value": " 73774390/73774390 elapsed&lt;00:05 remaining&lt;00:00"
          }
        },
        "6136149f5189419c98a3e48d535050b4": {
          "model_module": "@jupyter-widgets/controls",
          "model_module_version": "1.5.0",
          "model_name": "DescriptionStyleModel",
          "state": {
            "_model_module": "@jupyter-widgets/controls",
            "_model_module_version": "1.5.0",
            "_model_name": "DescriptionStyleModel",
            "_view_count": null,
            "_view_module": "@jupyter-widgets/base",
            "_view_module_version": "1.2.0",
            "_view_name": "StyleView",
            "description_width": ""
          }
        },
        "63e1ec0955ca411eab2f42cde18b33a7": {
          "model_module": "@jupyter-widgets/base",
          "model_module_version": "1.2.0",
          "model_name": "LayoutModel",
          "state": {
            "_model_module": "@jupyter-widgets/base",
            "_model_module_version": "1.2.0",
            "_model_name": "LayoutModel",
            "_view_count": null,
            "_view_module": "@jupyter-widgets/base",
            "_view_module_version": "1.2.0",
            "_view_name": "LayoutView",
            "align_content": null,
            "align_items": null,
            "align_self": null,
            "border": null,
            "bottom": null,
            "display": null,
            "flex": null,
            "flex_flow": null,
            "grid_area": null,
            "grid_auto_columns": null,
            "grid_auto_flow": null,
            "grid_auto_rows": null,
            "grid_column": null,
            "grid_gap": null,
            "grid_row": null,
            "grid_template_areas": null,
            "grid_template_columns": null,
            "grid_template_rows": null,
            "height": null,
            "justify_content": null,
            "justify_items": null,
            "left": null,
            "margin": null,
            "max_height": null,
            "max_width": null,
            "min_height": null,
            "min_width": null,
            "object_fit": null,
            "object_position": null,
            "order": null,
            "overflow": null,
            "overflow_x": null,
            "overflow_y": null,
            "padding": null,
            "right": null,
            "top": null,
            "visibility": null,
            "width": null
          }
        },
        "652d6019ae6d4e238bbbdfc9cc4f3089": {
          "model_module": "@jupyter-widgets/controls",
          "model_module_version": "1.5.0",
          "model_name": "ProgressStyleModel",
          "state": {
            "_model_module": "@jupyter-widgets/controls",
            "_model_module_version": "1.5.0",
            "_model_name": "ProgressStyleModel",
            "_view_count": null,
            "_view_module": "@jupyter-widgets/base",
            "_view_module_version": "1.2.0",
            "_view_name": "StyleView",
            "bar_color": null,
            "description_width": ""
          }
        },
        "6cb1e8d9427e4bf3a56b10a14695503e": {
          "model_module": "@jupyter-widgets/controls",
          "model_module_version": "1.5.0",
          "model_name": "ProgressStyleModel",
          "state": {
            "_model_module": "@jupyter-widgets/controls",
            "_model_module_version": "1.5.0",
            "_model_name": "ProgressStyleModel",
            "_view_count": null,
            "_view_module": "@jupyter-widgets/base",
            "_view_module_version": "1.2.0",
            "_view_name": "StyleView",
            "bar_color": null,
            "description_width": ""
          }
        },
        "6ddf852567c84b2b9162bbf3f7c533c7": {
          "model_module": "@jupyter-widgets/controls",
          "model_module_version": "1.5.0",
          "model_name": "DescriptionStyleModel",
          "state": {
            "_model_module": "@jupyter-widgets/controls",
            "_model_module_version": "1.5.0",
            "_model_name": "DescriptionStyleModel",
            "_view_count": null,
            "_view_module": "@jupyter-widgets/base",
            "_view_module_version": "1.2.0",
            "_view_name": "StyleView",
            "description_width": ""
          }
        },
        "72237a1fe6a14c06a0c2d99ae1045d9f": {
          "model_module": "@jupyter-widgets/base",
          "model_module_version": "1.2.0",
          "model_name": "LayoutModel",
          "state": {
            "_model_module": "@jupyter-widgets/base",
            "_model_module_version": "1.2.0",
            "_model_name": "LayoutModel",
            "_view_count": null,
            "_view_module": "@jupyter-widgets/base",
            "_view_module_version": "1.2.0",
            "_view_name": "LayoutView",
            "align_content": null,
            "align_items": null,
            "align_self": null,
            "border": null,
            "bottom": null,
            "display": null,
            "flex": null,
            "flex_flow": null,
            "grid_area": null,
            "grid_auto_columns": null,
            "grid_auto_flow": null,
            "grid_auto_rows": null,
            "grid_column": null,
            "grid_gap": null,
            "grid_row": null,
            "grid_template_areas": null,
            "grid_template_columns": null,
            "grid_template_rows": null,
            "height": null,
            "justify_content": null,
            "justify_items": null,
            "left": null,
            "margin": null,
            "max_height": null,
            "max_width": null,
            "min_height": null,
            "min_width": null,
            "object_fit": null,
            "object_position": null,
            "order": null,
            "overflow": null,
            "overflow_x": null,
            "overflow_y": null,
            "padding": null,
            "right": null,
            "top": null,
            "visibility": null,
            "width": null
          }
        },
        "77c8d3201f7d49ab9216fe47b631a545": {
          "model_module": "@jupyter-widgets/base",
          "model_module_version": "1.2.0",
          "model_name": "LayoutModel",
          "state": {
            "_model_module": "@jupyter-widgets/base",
            "_model_module_version": "1.2.0",
            "_model_name": "LayoutModel",
            "_view_count": null,
            "_view_module": "@jupyter-widgets/base",
            "_view_module_version": "1.2.0",
            "_view_name": "LayoutView",
            "align_content": null,
            "align_items": null,
            "align_self": null,
            "border": null,
            "bottom": null,
            "display": null,
            "flex": null,
            "flex_flow": null,
            "grid_area": null,
            "grid_auto_columns": null,
            "grid_auto_flow": null,
            "grid_auto_rows": null,
            "grid_column": null,
            "grid_gap": null,
            "grid_row": null,
            "grid_template_areas": null,
            "grid_template_columns": null,
            "grid_template_rows": null,
            "height": null,
            "justify_content": null,
            "justify_items": null,
            "left": null,
            "margin": null,
            "max_height": null,
            "max_width": null,
            "min_height": null,
            "min_width": null,
            "object_fit": null,
            "object_position": null,
            "order": null,
            "overflow": null,
            "overflow_x": null,
            "overflow_y": null,
            "padding": null,
            "right": null,
            "top": null,
            "visibility": null,
            "width": null
          }
        },
        "792488cdaba64e12a806719ae958ae0f": {
          "model_module": "@jupyter-widgets/base",
          "model_module_version": "1.2.0",
          "model_name": "LayoutModel",
          "state": {
            "_model_module": "@jupyter-widgets/base",
            "_model_module_version": "1.2.0",
            "_model_name": "LayoutModel",
            "_view_count": null,
            "_view_module": "@jupyter-widgets/base",
            "_view_module_version": "1.2.0",
            "_view_name": "LayoutView",
            "align_content": null,
            "align_items": null,
            "align_self": null,
            "border": null,
            "bottom": null,
            "display": null,
            "flex": null,
            "flex_flow": null,
            "grid_area": null,
            "grid_auto_columns": null,
            "grid_auto_flow": null,
            "grid_auto_rows": null,
            "grid_column": null,
            "grid_gap": null,
            "grid_row": null,
            "grid_template_areas": null,
            "grid_template_columns": null,
            "grid_template_rows": null,
            "height": null,
            "justify_content": null,
            "justify_items": null,
            "left": null,
            "margin": null,
            "max_height": null,
            "max_width": null,
            "min_height": null,
            "min_width": null,
            "object_fit": null,
            "object_position": null,
            "order": null,
            "overflow": null,
            "overflow_x": null,
            "overflow_y": null,
            "padding": null,
            "right": null,
            "top": null,
            "visibility": null,
            "width": null
          }
        },
        "8291dc6b596148928f8f548ede3442cc": {
          "model_module": "@jupyter-widgets/controls",
          "model_module_version": "1.5.0",
          "model_name": "DescriptionStyleModel",
          "state": {
            "_model_module": "@jupyter-widgets/controls",
            "_model_module_version": "1.5.0",
            "_model_name": "DescriptionStyleModel",
            "_view_count": null,
            "_view_module": "@jupyter-widgets/base",
            "_view_module_version": "1.2.0",
            "_view_name": "StyleView",
            "description_width": ""
          }
        },
        "861d017078fb47258f3e112fc27e5600": {
          "model_module": "@jupyter-widgets/controls",
          "model_module_version": "1.5.0",
          "model_name": "HTMLModel",
          "state": {
            "_dom_classes": [],
            "_model_module": "@jupyter-widgets/controls",
            "_model_module_version": "1.5.0",
            "_model_name": "HTMLModel",
            "_view_count": null,
            "_view_module": "@jupyter-widgets/controls",
            "_view_module_version": "1.5.0",
            "_view_name": "HTMLView",
            "description": "",
            "description_tooltip": null,
            "layout": "IPY_MODEL_41e246b631b94013884f2c52f58e8a0d",
            "placeholder": "​",
            "style": "IPY_MODEL_dc6c3daf14304735bfb3cf9d53ffe3ff",
            "value": "Downloading: 100.000%"
          }
        },
        "8af9dd2e01224addb9bc3abdc50b264c": {
          "model_module": "@jupyter-widgets/controls",
          "model_module_version": "1.5.0",
          "model_name": "HTMLModel",
          "state": {
            "_dom_classes": [],
            "_model_module": "@jupyter-widgets/controls",
            "_model_module_version": "1.5.0",
            "_model_name": "HTMLModel",
            "_view_count": null,
            "_view_module": "@jupyter-widgets/controls",
            "_view_module_version": "1.5.0",
            "_view_name": "HTMLView",
            "description": "",
            "description_tooltip": null,
            "layout": "IPY_MODEL_be6df3cb77414050a6e33efff3356a76",
            "placeholder": "​",
            "style": "IPY_MODEL_1d89a70355934bc8bf785c633ee5b570",
            "value": " 184676238/184676238 elapsed&lt;01:13 remaining&lt;00:00"
          }
        },
        "8b42e0e1fb9848648a40b86bb92f42cd": {
          "model_module": "@jupyter-widgets/controls",
          "model_module_version": "1.5.0",
          "model_name": "HBoxModel",
          "state": {
            "_dom_classes": [],
            "_model_module": "@jupyter-widgets/controls",
            "_model_module_version": "1.5.0",
            "_model_name": "HBoxModel",
            "_view_count": null,
            "_view_module": "@jupyter-widgets/controls",
            "_view_module_version": "1.5.0",
            "_view_name": "HBoxView",
            "box_style": "",
            "children": [
              "IPY_MODEL_d827d6c1e864496099435ef15607afe5",
              "IPY_MODEL_b645597b95a3407b856ce4e6923b2fbf",
              "IPY_MODEL_55276868e7ed478e876df1d8ffa37538"
            ],
            "layout": "IPY_MODEL_af4e0145cf2443f0bd638b2f00dcd487"
          }
        },
        "9b75c6ce68ae47c28fd89f55fe8df1a3": {
          "model_module": "@jupyter-widgets/base",
          "model_module_version": "1.2.0",
          "model_name": "LayoutModel",
          "state": {
            "_model_module": "@jupyter-widgets/base",
            "_model_module_version": "1.2.0",
            "_model_name": "LayoutModel",
            "_view_count": null,
            "_view_module": "@jupyter-widgets/base",
            "_view_module_version": "1.2.0",
            "_view_name": "LayoutView",
            "align_content": null,
            "align_items": null,
            "align_self": null,
            "border": null,
            "bottom": null,
            "display": null,
            "flex": null,
            "flex_flow": null,
            "grid_area": null,
            "grid_auto_columns": null,
            "grid_auto_flow": null,
            "grid_auto_rows": null,
            "grid_column": null,
            "grid_gap": null,
            "grid_row": null,
            "grid_template_areas": null,
            "grid_template_columns": null,
            "grid_template_rows": null,
            "height": null,
            "justify_content": null,
            "justify_items": null,
            "left": null,
            "margin": null,
            "max_height": null,
            "max_width": null,
            "min_height": null,
            "min_width": null,
            "object_fit": null,
            "object_position": null,
            "order": null,
            "overflow": null,
            "overflow_x": null,
            "overflow_y": null,
            "padding": null,
            "right": null,
            "top": null,
            "visibility": null,
            "width": null
          }
        },
        "a19e1382d75841c1addf4b45a6df16e9": {
          "model_module": "@jupyter-widgets/base",
          "model_module_version": "1.2.0",
          "model_name": "LayoutModel",
          "state": {
            "_model_module": "@jupyter-widgets/base",
            "_model_module_version": "1.2.0",
            "_model_name": "LayoutModel",
            "_view_count": null,
            "_view_module": "@jupyter-widgets/base",
            "_view_module_version": "1.2.0",
            "_view_name": "LayoutView",
            "align_content": null,
            "align_items": null,
            "align_self": null,
            "border": null,
            "bottom": null,
            "display": null,
            "flex": null,
            "flex_flow": null,
            "grid_area": null,
            "grid_auto_columns": null,
            "grid_auto_flow": null,
            "grid_auto_rows": null,
            "grid_column": null,
            "grid_gap": null,
            "grid_row": null,
            "grid_template_areas": null,
            "grid_template_columns": null,
            "grid_template_rows": null,
            "height": null,
            "justify_content": null,
            "justify_items": null,
            "left": null,
            "margin": null,
            "max_height": null,
            "max_width": null,
            "min_height": null,
            "min_width": null,
            "object_fit": null,
            "object_position": null,
            "order": null,
            "overflow": null,
            "overflow_x": null,
            "overflow_y": null,
            "padding": null,
            "right": null,
            "top": null,
            "visibility": null,
            "width": null
          }
        },
        "a223da807a5649cab9754e7c1098ccb8": {
          "model_module": "@jupyter-widgets/base",
          "model_module_version": "1.2.0",
          "model_name": "LayoutModel",
          "state": {
            "_model_module": "@jupyter-widgets/base",
            "_model_module_version": "1.2.0",
            "_model_name": "LayoutModel",
            "_view_count": null,
            "_view_module": "@jupyter-widgets/base",
            "_view_module_version": "1.2.0",
            "_view_name": "LayoutView",
            "align_content": null,
            "align_items": null,
            "align_self": null,
            "border": null,
            "bottom": null,
            "display": null,
            "flex": null,
            "flex_flow": null,
            "grid_area": null,
            "grid_auto_columns": null,
            "grid_auto_flow": null,
            "grid_auto_rows": null,
            "grid_column": null,
            "grid_gap": null,
            "grid_row": null,
            "grid_template_areas": null,
            "grid_template_columns": null,
            "grid_template_rows": null,
            "height": null,
            "justify_content": null,
            "justify_items": null,
            "left": null,
            "margin": null,
            "max_height": null,
            "max_width": null,
            "min_height": null,
            "min_width": null,
            "object_fit": null,
            "object_position": null,
            "order": null,
            "overflow": null,
            "overflow_x": null,
            "overflow_y": null,
            "padding": null,
            "right": null,
            "top": null,
            "visibility": null,
            "width": null
          }
        },
        "a9c5113721864b988cdb5e4b6149f7f1": {
          "model_module": "@jupyter-widgets/base",
          "model_module_version": "1.2.0",
          "model_name": "LayoutModel",
          "state": {
            "_model_module": "@jupyter-widgets/base",
            "_model_module_version": "1.2.0",
            "_model_name": "LayoutModel",
            "_view_count": null,
            "_view_module": "@jupyter-widgets/base",
            "_view_module_version": "1.2.0",
            "_view_name": "LayoutView",
            "align_content": null,
            "align_items": null,
            "align_self": null,
            "border": null,
            "bottom": null,
            "display": null,
            "flex": null,
            "flex_flow": null,
            "grid_area": null,
            "grid_auto_columns": null,
            "grid_auto_flow": null,
            "grid_auto_rows": null,
            "grid_column": null,
            "grid_gap": null,
            "grid_row": null,
            "grid_template_areas": null,
            "grid_template_columns": null,
            "grid_template_rows": null,
            "height": null,
            "justify_content": null,
            "justify_items": null,
            "left": null,
            "margin": null,
            "max_height": null,
            "max_width": null,
            "min_height": null,
            "min_width": null,
            "object_fit": null,
            "object_position": null,
            "order": null,
            "overflow": null,
            "overflow_x": null,
            "overflow_y": null,
            "padding": null,
            "right": null,
            "top": null,
            "visibility": null,
            "width": null
          }
        },
        "af4e0145cf2443f0bd638b2f00dcd487": {
          "model_module": "@jupyter-widgets/base",
          "model_module_version": "1.2.0",
          "model_name": "LayoutModel",
          "state": {
            "_model_module": "@jupyter-widgets/base",
            "_model_module_version": "1.2.0",
            "_model_name": "LayoutModel",
            "_view_count": null,
            "_view_module": "@jupyter-widgets/base",
            "_view_module_version": "1.2.0",
            "_view_name": "LayoutView",
            "align_content": null,
            "align_items": null,
            "align_self": null,
            "border": null,
            "bottom": null,
            "display": null,
            "flex": null,
            "flex_flow": null,
            "grid_area": null,
            "grid_auto_columns": null,
            "grid_auto_flow": null,
            "grid_auto_rows": null,
            "grid_column": null,
            "grid_gap": null,
            "grid_row": null,
            "grid_template_areas": null,
            "grid_template_columns": null,
            "grid_template_rows": null,
            "height": null,
            "justify_content": null,
            "justify_items": null,
            "left": null,
            "margin": null,
            "max_height": null,
            "max_width": null,
            "min_height": null,
            "min_width": null,
            "object_fit": null,
            "object_position": null,
            "order": null,
            "overflow": null,
            "overflow_x": null,
            "overflow_y": null,
            "padding": null,
            "right": null,
            "top": null,
            "visibility": null,
            "width": null
          }
        },
        "b645597b95a3407b856ce4e6923b2fbf": {
          "model_module": "@jupyter-widgets/controls",
          "model_module_version": "1.5.0",
          "model_name": "FloatProgressModel",
          "state": {
            "_dom_classes": [],
            "_model_module": "@jupyter-widgets/controls",
            "_model_module_version": "1.5.0",
            "_model_name": "FloatProgressModel",
            "_view_count": null,
            "_view_module": "@jupyter-widgets/controls",
            "_view_module_version": "1.5.0",
            "_view_name": "ProgressView",
            "bar_style": "success",
            "description": "",
            "description_tooltip": null,
            "layout": "IPY_MODEL_63e1ec0955ca411eab2f42cde18b33a7",
            "max": 73774390,
            "min": 0,
            "orientation": "horizontal",
            "style": "IPY_MODEL_cac0ffcfc13245e58649e29cf3f99bca",
            "value": 73774390
          }
        },
        "b9e0f3de11cd401dae3546d2be192f75": {
          "model_module": "@jupyter-widgets/controls",
          "model_module_version": "1.5.0",
          "model_name": "FloatProgressModel",
          "state": {
            "_dom_classes": [],
            "_model_module": "@jupyter-widgets/controls",
            "_model_module_version": "1.5.0",
            "_model_name": "FloatProgressModel",
            "_view_count": null,
            "_view_module": "@jupyter-widgets/controls",
            "_view_module_version": "1.5.0",
            "_view_name": "ProgressView",
            "bar_style": "success",
            "description": "",
            "description_tooltip": null,
            "layout": "IPY_MODEL_a19e1382d75841c1addf4b45a6df16e9",
            "max": 6,
            "min": 0,
            "orientation": "horizontal",
            "style": "IPY_MODEL_08669900bd0743edbe47883410d5e6be",
            "value": 6
          }
        },
        "be6df3cb77414050a6e33efff3356a76": {
          "model_module": "@jupyter-widgets/base",
          "model_module_version": "1.2.0",
          "model_name": "LayoutModel",
          "state": {
            "_model_module": "@jupyter-widgets/base",
            "_model_module_version": "1.2.0",
            "_model_name": "LayoutModel",
            "_view_count": null,
            "_view_module": "@jupyter-widgets/base",
            "_view_module_version": "1.2.0",
            "_view_name": "LayoutView",
            "align_content": null,
            "align_items": null,
            "align_self": null,
            "border": null,
            "bottom": null,
            "display": null,
            "flex": null,
            "flex_flow": null,
            "grid_area": null,
            "grid_auto_columns": null,
            "grid_auto_flow": null,
            "grid_auto_rows": null,
            "grid_column": null,
            "grid_gap": null,
            "grid_row": null,
            "grid_template_areas": null,
            "grid_template_columns": null,
            "grid_template_rows": null,
            "height": null,
            "justify_content": null,
            "justify_items": null,
            "left": null,
            "margin": null,
            "max_height": null,
            "max_width": null,
            "min_height": null,
            "min_width": null,
            "object_fit": null,
            "object_position": null,
            "order": null,
            "overflow": null,
            "overflow_x": null,
            "overflow_y": null,
            "padding": null,
            "right": null,
            "top": null,
            "visibility": null,
            "width": null
          }
        },
        "cac0ffcfc13245e58649e29cf3f99bca": {
          "model_module": "@jupyter-widgets/controls",
          "model_module_version": "1.5.0",
          "model_name": "ProgressStyleModel",
          "state": {
            "_model_module": "@jupyter-widgets/controls",
            "_model_module_version": "1.5.0",
            "_model_name": "ProgressStyleModel",
            "_view_count": null,
            "_view_module": "@jupyter-widgets/base",
            "_view_module_version": "1.2.0",
            "_view_name": "StyleView",
            "bar_color": null,
            "description_width": ""
          }
        },
        "ceee73ff01354f8195c8b5f34ef33cad": {
          "model_module": "@jupyter-widgets/controls",
          "model_module_version": "1.5.0",
          "model_name": "HTMLModel",
          "state": {
            "_dom_classes": [],
            "_model_module": "@jupyter-widgets/controls",
            "_model_module_version": "1.5.0",
            "_model_name": "HTMLModel",
            "_view_count": null,
            "_view_module": "@jupyter-widgets/controls",
            "_view_module_version": "1.5.0",
            "_view_name": "HTMLView",
            "description": "",
            "description_tooltip": null,
            "layout": "IPY_MODEL_36913340b3f645b39fad9e0f60cdce74",
            "placeholder": "​",
            "style": "IPY_MODEL_6136149f5189419c98a3e48d535050b4",
            "value": " 73774390/73774390 elapsed&lt;00:05 remaining&lt;00:00"
          }
        },
        "cf076d879d0d4fe8ae2241bbed24d4df": {
          "model_module": "@jupyter-widgets/controls",
          "model_module_version": "1.5.0",
          "model_name": "DescriptionStyleModel",
          "state": {
            "_model_module": "@jupyter-widgets/controls",
            "_model_module_version": "1.5.0",
            "_model_name": "DescriptionStyleModel",
            "_view_count": null,
            "_view_module": "@jupyter-widgets/base",
            "_view_module_version": "1.2.0",
            "_view_name": "StyleView",
            "description_width": ""
          }
        },
        "d5dfe05453ef4c09aa6ad6730d4aba97": {
          "model_module": "@jupyter-widgets/base",
          "model_module_version": "1.2.0",
          "model_name": "LayoutModel",
          "state": {
            "_model_module": "@jupyter-widgets/base",
            "_model_module_version": "1.2.0",
            "_model_name": "LayoutModel",
            "_view_count": null,
            "_view_module": "@jupyter-widgets/base",
            "_view_module_version": "1.2.0",
            "_view_name": "LayoutView",
            "align_content": null,
            "align_items": null,
            "align_self": null,
            "border": null,
            "bottom": null,
            "display": null,
            "flex": null,
            "flex_flow": null,
            "grid_area": null,
            "grid_auto_columns": null,
            "grid_auto_flow": null,
            "grid_auto_rows": null,
            "grid_column": null,
            "grid_gap": null,
            "grid_row": null,
            "grid_template_areas": null,
            "grid_template_columns": null,
            "grid_template_rows": null,
            "height": null,
            "justify_content": null,
            "justify_items": null,
            "left": null,
            "margin": null,
            "max_height": null,
            "max_width": null,
            "min_height": null,
            "min_width": null,
            "object_fit": null,
            "object_position": null,
            "order": null,
            "overflow": null,
            "overflow_x": null,
            "overflow_y": null,
            "padding": null,
            "right": null,
            "top": null,
            "visibility": null,
            "width": null
          }
        },
        "d66025301e644c65bd689459e52c9084": {
          "model_module": "@jupyter-widgets/controls",
          "model_module_version": "1.5.0",
          "model_name": "FloatProgressModel",
          "state": {
            "_dom_classes": [],
            "_model_module": "@jupyter-widgets/controls",
            "_model_module_version": "1.5.0",
            "_model_name": "FloatProgressModel",
            "_view_count": null,
            "_view_module": "@jupyter-widgets/controls",
            "_view_module_version": "1.5.0",
            "_view_name": "ProgressView",
            "bar_style": "success",
            "description": "",
            "description_tooltip": null,
            "layout": "IPY_MODEL_792488cdaba64e12a806719ae958ae0f",
            "max": 73774390,
            "min": 0,
            "orientation": "horizontal",
            "style": "IPY_MODEL_652d6019ae6d4e238bbbdfc9cc4f3089",
            "value": 73774390
          }
        },
        "d827d6c1e864496099435ef15607afe5": {
          "model_module": "@jupyter-widgets/controls",
          "model_module_version": "1.5.0",
          "model_name": "HTMLModel",
          "state": {
            "_dom_classes": [],
            "_model_module": "@jupyter-widgets/controls",
            "_model_module_version": "1.5.0",
            "_model_name": "HTMLModel",
            "_view_count": null,
            "_view_module": "@jupyter-widgets/controls",
            "_view_module_version": "1.5.0",
            "_view_name": "HTMLView",
            "description": "",
            "description_tooltip": null,
            "layout": "IPY_MODEL_1d9f29abd8884d46b3675bb8246be6ba",
            "placeholder": "​",
            "style": "IPY_MODEL_fbf8f277508c466b85768405e8af2bc6",
            "value": "Downloading: 100.000%"
          }
        },
        "dc6c3daf14304735bfb3cf9d53ffe3ff": {
          "model_module": "@jupyter-widgets/controls",
          "model_module_version": "1.5.0",
          "model_name": "DescriptionStyleModel",
          "state": {
            "_model_module": "@jupyter-widgets/controls",
            "_model_module_version": "1.5.0",
            "_model_name": "DescriptionStyleModel",
            "_view_count": null,
            "_view_module": "@jupyter-widgets/base",
            "_view_module_version": "1.2.0",
            "_view_name": "StyleView",
            "description_width": ""
          }
        },
        "eb8eb491d1284f3c83ae28d0caa84f9e": {
          "model_module": "@jupyter-widgets/controls",
          "model_module_version": "1.5.0",
          "model_name": "ProgressStyleModel",
          "state": {
            "_model_module": "@jupyter-widgets/controls",
            "_model_module_version": "1.5.0",
            "_model_name": "ProgressStyleModel",
            "_view_count": null,
            "_view_module": "@jupyter-widgets/base",
            "_view_module_version": "1.2.0",
            "_view_name": "StyleView",
            "bar_color": null,
            "description_width": ""
          }
        },
        "edd78dd9130e4a318440f23725dca175": {
          "model_module": "@jupyter-widgets/base",
          "model_module_version": "1.2.0",
          "model_name": "LayoutModel",
          "state": {
            "_model_module": "@jupyter-widgets/base",
            "_model_module_version": "1.2.0",
            "_model_name": "LayoutModel",
            "_view_count": null,
            "_view_module": "@jupyter-widgets/base",
            "_view_module_version": "1.2.0",
            "_view_name": "LayoutView",
            "align_content": null,
            "align_items": null,
            "align_self": null,
            "border": null,
            "bottom": null,
            "display": null,
            "flex": null,
            "flex_flow": null,
            "grid_area": null,
            "grid_auto_columns": null,
            "grid_auto_flow": null,
            "grid_auto_rows": null,
            "grid_column": null,
            "grid_gap": null,
            "grid_row": null,
            "grid_template_areas": null,
            "grid_template_columns": null,
            "grid_template_rows": null,
            "height": null,
            "justify_content": null,
            "justify_items": null,
            "left": null,
            "margin": null,
            "max_height": null,
            "max_width": null,
            "min_height": null,
            "min_width": null,
            "object_fit": null,
            "object_position": null,
            "order": null,
            "overflow": null,
            "overflow_x": null,
            "overflow_y": null,
            "padding": null,
            "right": null,
            "top": null,
            "visibility": null,
            "width": null
          }
        },
        "f326068e54954dfaaee1f102264e1caf": {
          "model_module": "@jupyter-widgets/controls",
          "model_module_version": "1.5.0",
          "model_name": "HBoxModel",
          "state": {
            "_dom_classes": [],
            "_model_module": "@jupyter-widgets/controls",
            "_model_module_version": "1.5.0",
            "_model_name": "HBoxModel",
            "_view_count": null,
            "_view_module": "@jupyter-widgets/controls",
            "_view_module_version": "1.5.0",
            "_view_name": "HBoxView",
            "box_style": "",
            "children": [
              "IPY_MODEL_381b3b2d777547e1a575f5bf22db7475",
              "IPY_MODEL_d66025301e644c65bd689459e52c9084",
              "IPY_MODEL_ceee73ff01354f8195c8b5f34ef33cad"
            ],
            "layout": "IPY_MODEL_a9c5113721864b988cdb5e4b6149f7f1"
          }
        },
        "f46f4ff514ef4f62b105316e5810bc9e": {
          "model_module": "@jupyter-widgets/controls",
          "model_module_version": "1.5.0",
          "model_name": "DescriptionStyleModel",
          "state": {
            "_model_module": "@jupyter-widgets/controls",
            "_model_module_version": "1.5.0",
            "_model_name": "DescriptionStyleModel",
            "_view_count": null,
            "_view_module": "@jupyter-widgets/base",
            "_view_module_version": "1.2.0",
            "_view_name": "StyleView",
            "description_width": ""
          }
        },
        "f49c85204c054346935f4fd2b6650158": {
          "model_module": "@jupyter-widgets/controls",
          "model_module_version": "1.5.0",
          "model_name": "HBoxModel",
          "state": {
            "_dom_classes": [],
            "_model_module": "@jupyter-widgets/controls",
            "_model_module_version": "1.5.0",
            "_model_name": "HBoxModel",
            "_view_count": null,
            "_view_module": "@jupyter-widgets/controls",
            "_view_module_version": "1.5.0",
            "_view_name": "HBoxView",
            "box_style": "",
            "children": [
              "IPY_MODEL_861d017078fb47258f3e112fc27e5600",
              "IPY_MODEL_47b586c78cab4395a4e4caab6338d23e",
              "IPY_MODEL_0af7608293414ddfae49f319b43ca931"
            ],
            "layout": "IPY_MODEL_9b75c6ce68ae47c28fd89f55fe8df1a3"
          }
        },
        "f7daa62bf33546bdb45f60416f36a7fe": {
          "model_module": "@jupyter-widgets/controls",
          "model_module_version": "1.5.0",
          "model_name": "DescriptionStyleModel",
          "state": {
            "_model_module": "@jupyter-widgets/controls",
            "_model_module_version": "1.5.0",
            "_model_name": "DescriptionStyleModel",
            "_view_count": null,
            "_view_module": "@jupyter-widgets/base",
            "_view_module_version": "1.2.0",
            "_view_name": "StyleView",
            "description_width": ""
          }
        },
        "fbf8f277508c466b85768405e8af2bc6": {
          "model_module": "@jupyter-widgets/controls",
          "model_module_version": "1.5.0",
          "model_name": "DescriptionStyleModel",
          "state": {
            "_model_module": "@jupyter-widgets/controls",
            "_model_module_version": "1.5.0",
            "_model_name": "DescriptionStyleModel",
            "_view_count": null,
            "_view_module": "@jupyter-widgets/base",
            "_view_module_version": "1.2.0",
            "_view_name": "StyleView",
            "description_width": ""
          }
        },
        "fd38edc4486f426c951be1f7e9f97a20": {
          "model_module": "@jupyter-widgets/controls",
          "model_module_version": "1.5.0",
          "model_name": "HBoxModel",
          "state": {
            "_dom_classes": [],
            "_model_module": "@jupyter-widgets/controls",
            "_model_module_version": "1.5.0",
            "_model_name": "HBoxModel",
            "_view_count": null,
            "_view_module": "@jupyter-widgets/controls",
            "_view_module_version": "1.5.0",
            "_view_name": "HBoxView",
            "box_style": "",
            "children": [
              "IPY_MODEL_4061c3d62cab49a4beede76035ea4099",
              "IPY_MODEL_0ad2810d39204c22ae3ff3a5fc00c93e",
              "IPY_MODEL_8af9dd2e01224addb9bc3abdc50b264c"
            ],
            "layout": "IPY_MODEL_77c8d3201f7d49ab9216fe47b631a545"
          }
        },
        "fe01908091af4af0813e4721fd6a49d4": {
          "model_module": "@jupyter-widgets/controls",
          "model_module_version": "1.5.0",
          "model_name": "HBoxModel",
          "state": {
            "_dom_classes": [],
            "_model_module": "@jupyter-widgets/controls",
            "_model_module_version": "1.5.0",
            "_model_name": "HBoxModel",
            "_view_count": null,
            "_view_module": "@jupyter-widgets/controls",
            "_view_module_version": "1.5.0",
            "_view_name": "HBoxView",
            "box_style": "",
            "children": [
              "IPY_MODEL_37cc67b6cf064bd3bc1cac73ec74df4d",
              "IPY_MODEL_b9e0f3de11cd401dae3546d2be192f75",
              "IPY_MODEL_3cff8b422f0d497e8c83e544ae5f9a51"
            ],
            "layout": "IPY_MODEL_edd78dd9130e4a318440f23725dca175"
          }
        }
      }
    }
  },
  "nbformat": 4,
  "nbformat_minor": 0
}
