{
 "cells": [
  {
   "cell_type": "code",
   "execution_count": 1,
   "metadata": {},
   "outputs": [],
   "source": [
    "import pandas as pd\n",
    "import seaborn as sns\n",
    "import matplotlib.pyplot as plt\n",
    "import numpy as np\n",
    "from sklearn.neighbors import KNeighborsClassifier\n",
    "from sklearn.metrics import accuracy_score\n",
    "from sklearn.metrics import confusion_matrix\n",
    "from sklearn.metrics import classification_report\n",
    "from sklearn import preprocessing, svm\n",
    "from sklearn.model_selection import train_test_split\n",
    "from sklearn.ensemble import RandomForestRegressor\n",
    "from sklearn.ensemble import RandomForestClassifier\n",
    "from hsml.schema import Schema\n",
    "from hsml.model_schema import ModelSchema\n",
    "from sklearn.decomposition import PCA\n",
    "import joblib"
   ]
  },
  {
   "cell_type": "markdown",
   "metadata": {},
   "source": [
    "# Initialize the data"
   ]
  },
  {
   "cell_type": "code",
   "execution_count": 9,
   "metadata": {},
   "outputs": [
    {
     "name": "stdout",
     "output_type": "stream",
     "text": [
      "0.0\n",
      "512.3292\n"
     ]
    }
   ],
   "source": [
    "def initialize_data():\n",
    "    np.random.seed(101)\n",
    "\n",
    "\n",
    "    # Initialize the data\n",
    "    df = pd.read_csv(\"./titanic.csv\")\n",
    "    print(df[\"Fare\"].min())\n",
    "    print(df[\"Fare\"].max())\n",
    "\n",
    "    # df.set_index(\"PassengerId\", inplace=True) # For debugging\n",
    "    df.drop(\"PassengerId\", axis=1, inplace=True)\n",
    "\n",
    "    # Survived: Label\n",
    "    # Pclass: Ticket class (1 = 1st, 2 = 2nd, 3 = 3rd)\n",
    "    # Age: Age in years\n",
    "    # Name: The name of the passenger\n",
    "    # Sex: male/female\n",
    "    # SibSp: no. of siblings / spouses aboard the Titanic\n",
    "    # Parch: no. of parents / children aboard the Titanic\n",
    "    # Ticket: Ticket number\n",
    "    # Fare: Passenger fare\n",
    "    # Cabin: Cabin number\n",
    "    # Embarked: Port of Embarkation (C = Cherbourg, Q = Queenstown, S = Southampton)\n",
    "\n",
    "    # Three columns have missing values: Age, Cabin, Embarked\n",
    "    # Cabin has too many missing values to be useful, so we drop it -\n",
    "    # df.drop(\"Cabin\", axis=1, inplace=True)\n",
    "\n",
    "    # Embarked has only 2 missing values so we can drop those rows\n",
    "    df.dropna(subset=[\"Embarked\"], inplace=True)\n",
    "\n",
    "    # Age has 177 missing values, this is a lot, so we train a model to predict the age based on the other features\n",
    "    # This model will be a simple linear regression model (see below)\n",
    "\n",
    "\n",
    "    for row in df.itertuples():\n",
    "        pass\n",
    "        # Inspect the name column to extract the title of the passenger\n",
    "        # This will be a new feature\n",
    "        # name = row.Name\n",
    "        # title = name.split(\",\")[1].split(\".\")[0].strip()\n",
    "        # df.at[row.Index, \"Title\"] = title\n",
    "\n",
    "        # Inspect the name column to extract the surname of the passenger\n",
    "        # This will be a new feature\n",
    "        # name = row.Name\n",
    "        # surname = name.split(\",\")[0].strip()\n",
    "        # df.at[row.Index, \"Surname\"] = surname\n",
    "\n",
    "        # If the passenger has a cabin number, extract the cabin prefix\n",
    "        # This will be a new feature\n",
    "        # cabin = row.Cabin\n",
    "        # if not pd.isnull(cabin):\n",
    "        #     if len(cabin.split(\" \")) > 1: # Some have multiple cabins => take the first one\n",
    "        #         cabin = cabin.split(\" \")[0]\n",
    "        #         df.at[row.Index, \"Cabin\"] = 'Multiple Cabin'\n",
    "        #     else:\n",
    "        #         df.at[row.Index, \"Cabin\"] = 'Cabin'\n",
    "            \n",
    "        #     cabin_prefix = cabin[0]\n",
    "        #     # df.at[row.Index, \"CabinClass\"] = cabin_prefix\n",
    "        # else:\n",
    "        #     # df.at[row.Index, \"CabinClass\"] = \"XXX\"\n",
    "        #     df.at[row.Index, \"Cabin\"] = \"No Cabin\"\n",
    "\n",
    "    # Now we can drop the Name column\n",
    "    df.drop([\"Name\", \"Ticket\", \"Cabin\"], axis=1, inplace=True)\n",
    "\n",
    "    return df\n",
    "    \n",
    "df = initialize_data()"
   ]
  },
  {
   "cell_type": "markdown",
   "metadata": {},
   "source": [
    "## Fit an age prediciton model"
   ]
  },
  {
   "cell_type": "code",
   "execution_count": 3,
   "metadata": {},
   "outputs": [
    {
     "name": "stderr",
     "output_type": "stream",
     "text": [
      "SettingWithCopyWarning: \n",
      "A value is trying to be set on a copy of a slice from a DataFrame\n",
      "\n",
      "See the caveats in the documentation: https://pandas.pydata.org/pandas-docs/stable/user_guide/indexing.html#returning-a-view-versus-a-copy\n"
     ]
    },
    {
     "name": "stdout",
     "output_type": "stream",
     "text": [
      "Mean Absolute Error: 10.13 years.\n"
     ]
    }
   ],
   "source": [
    "def get_age_model(df):\n",
    "  # Train a simple model to predict the age based on the other features\n",
    "  # Use a random forest regressor to predict the age\n",
    "  # Prepare the data\n",
    "  dfAge = df.dropna(subset=[\"Age\"])\n",
    "  yage = dfAge[\"Age\"]\n",
    "  Xage = dfAge.drop([\"Survived\", \"Age\"], axis=1, inplace=True)\n",
    "\n",
    "  # Convert the categorical features to numerical\n",
    "  le = preprocessing.LabelEncoder()\n",
    "  Xage = dfAge.apply(le.fit_transform)\n",
    "\n",
    "  # Split the data into train and test sets\n",
    "  X_train, X_test, y_train, y_test = train_test_split(Xage, yage, test_size = 0.25)\n",
    "\n",
    "  # Initialize the random forest regressor\n",
    "  rf = RandomForestRegressor(n_estimators = 1000, random_state = 42)\n",
    "\n",
    "  # Train the model\n",
    "  rf.fit(X_train, y_train)\n",
    "\n",
    "  # Test the model\n",
    "  predictions = rf.predict(X_test)\n",
    "  errors = abs(predictions - y_test)\n",
    "  print('Mean Absolute Error:', round(np.mean(errors), 2), 'years.')\n",
    "  \n",
    "  return rf\n",
    "\n",
    "age_model = get_age_model(df)\n"
   ]
  },
  {
   "cell_type": "markdown",
   "metadata": {},
   "source": [
    "## Fill null values"
   ]
  },
  {
   "cell_type": "code",
   "execution_count": 4,
   "metadata": {},
   "outputs": [
    {
     "name": "stderr",
     "output_type": "stream",
     "text": [
      "SettingWithCopyWarning: \n",
      "A value is trying to be set on a copy of a slice from a DataFrame\n",
      "\n",
      "See the caveats in the documentation: https://pandas.pydata.org/pandas-docs/stable/user_guide/indexing.html#returning-a-view-versus-a-copy\n"
     ]
    }
   ],
   "source": [
    "def fix_null_values(df, age_model):\n",
    "  # Replace the null values in the age column by predicting it using the random forest regressor\n",
    "  # Prepare the data\n",
    "  dfAge = df[df[\"Age\"].isnull()]\n",
    "  Xage = dfAge.drop([\"Survived\", \"Age\"], axis=1, inplace=True)\n",
    "\n",
    "  # Convert the categorical features to numerical\n",
    "  le = preprocessing.LabelEncoder()\n",
    "  Xage = dfAge.apply(le.fit_transform)\n",
    "\n",
    "  # Predict the age\n",
    "  predictions = age_model.predict(Xage)\n",
    "\n",
    "  # Replace the null values in the age column by the predicted values\n",
    "  df.loc[df[\"Age\"].isnull(), \"Age\"] = predictions\n",
    "\n",
    "  # Round to the nearest integer\n",
    "  df[\"Age\"] = df[\"Age\"].round().astype(int)\n",
    "\n",
    "  # Train a kNN model to predict the survival of the passengers\n",
    "  # Prepare the data\n",
    "  y = df[\"Survived\"]\n",
    "  X = df.drop([\"Survived\"], axis=1)\n",
    "\n",
    "  # Convert the categorical features to numerical\n",
    "  le = preprocessing.LabelEncoder()\n",
    "  X = df.apply(le.fit_transform)\n",
    "\n",
    "  # Apply PCA to reduce the number of features\n",
    "  # pca = PCA(n_components=6)\n",
    "  # X = pca.fit_transform(X)\n",
    "\n",
    "  return X, y\n",
    "\n",
    "X, y = fix_null_values(df, age_model)"
   ]
  },
  {
   "cell_type": "code",
   "execution_count": 5,
   "metadata": {},
   "outputs": [],
   "source": [
    "# Split the data into train and test sets\n",
    "X_train, X_test, y_train, y_test = train_test_split(X, y, test_size = 0.25)"
   ]
  },
  {
   "cell_type": "code",
   "execution_count": 6,
   "metadata": {},
   "outputs": [
    {
     "name": "stdout",
     "output_type": "stream",
     "text": [
      "Accuracy: 0.757847533632287\n",
      "Confusion matrix:\n",
      "[[122  27]\n",
      " [ 27  47]]\n",
      "Classification report:\n",
      "              precision    recall  f1-score   support\n",
      "\n",
      "           0       0.82      0.82      0.82       149\n",
      "           1       0.64      0.64      0.64        74\n",
      "\n",
      "    accuracy                           0.76       223\n",
      "   macro avg       0.73      0.73      0.73       223\n",
      "weighted avg       0.76      0.76      0.76       223\n",
      "\n"
     ]
    }
   ],
   "source": [
    "# Initialize the kNN classifier\n",
    "knn = KNeighborsClassifier(n_neighbors=5)\n",
    "\n",
    "# Train the model\n",
    "knn.fit(X_train, y_train)\n",
    "\n",
    "# Test the model\n",
    "predictions = knn.predict(X_test)\n",
    "print(\"Accuracy:\", accuracy_score(y_test, predictions))\n",
    "print(\"Confusion matrix:\")\n",
    "print(confusion_matrix(y_test, predictions))\n",
    "print(\"Classification report:\")\n",
    "print(classification_report(y_test, predictions))"
   ]
  },
  {
   "cell_type": "code",
   "execution_count": 7,
   "metadata": {},
   "outputs": [
    {
     "name": "stdout",
     "output_type": "stream",
     "text": [
      "Accuracy: 1.0\n",
      "Confusion matrix:\n",
      "[[149   0]\n",
      " [  0  74]]\n",
      "Classification report:\n",
      "              precision    recall  f1-score   support\n",
      "\n",
      "           0       1.00      1.00      1.00       149\n",
      "           1       1.00      1.00      1.00        74\n",
      "\n",
      "    accuracy                           1.00       223\n",
      "   macro avg       1.00      1.00      1.00       223\n",
      "weighted avg       1.00      1.00      1.00       223\n",
      "\n"
     ]
    }
   ],
   "source": [
    "# Fit a random forest classifier to the data\n",
    "# Initialize the random forest classifier\n",
    "rf = RandomForestClassifier(n_estimators = 1000, random_state = 42)\n",
    "\n",
    "# Train the model\n",
    "rf.fit(X_train, y_train)\n",
    "\n",
    "# Test the model\n",
    "predictions = rf.predict(X_test)\n",
    "\n",
    "print(\"Accuracy:\", accuracy_score(y_test, predictions))\n",
    "print(\"Confusion matrix:\")\n",
    "print(confusion_matrix(y_test, predictions))\n",
    "print(\"Classification report:\")\n",
    "print(classification_report(y_test, predictions))"
   ]
  },
  {
   "cell_type": "markdown",
   "metadata": {},
   "source": [
    "# Save the features"
   ]
  },
  {
   "cell_type": "code",
   "execution_count": 8,
   "metadata": {},
   "outputs": [],
   "source": [
    "# Convert the categorical features to numerical\n",
    "# le = preprocessing.LabelEncoder()\n",
    "\n",
    "# Convert the categorical features to numerical\n",
    "# Convert male to 0 and female to 1\n",
    "\n",
    "def sexToInt(x):\n",
    "    if x == \"male\":\n",
    "        return 0\n",
    "    elif x == \"female\":\n",
    "        return 1\n",
    "    else:\n",
    "      raise Exception(\"Unsupported sex value: \" + x)\n",
    "\n",
    "def embarkedToInt(x):\n",
    "    if x == \"S\":\n",
    "        return 0\n",
    "    elif x == \"C\":\n",
    "        return 1\n",
    "    elif x == \"Q\":\n",
    "        return 2\n",
    "    else:\n",
    "      raise Exception(\"Unsupported embarked value: \" + x)\n",
    "\n",
    "df[\"Sex\"] =  df[\"Sex\"].apply(sexToInt)\n",
    "df[\"Embarked\"] =  df[\"Embarked\"].apply(embarkedToInt)\n",
    "# df = df.apply(le.fit_transform)\n",
    "# Save the data\n",
    "df.columns= df.columns.str.lower()\n",
    "df.to_csv(\"./titanicCleaned.csv\", index= False)"
   ]
  }
 ],
 "metadata": {
  "kernelspec": {
   "display_name": "Python 3.9.5 ('.venv': venv)",
   "language": "python",
   "name": "python3"
  },
  "language_info": {
   "codemirror_mode": {
    "name": "ipython",
    "version": 3
   },
   "file_extension": ".py",
   "mimetype": "text/x-python",
   "name": "python",
   "nbconvert_exporter": "python",
   "pygments_lexer": "ipython3",
   "version": "3.9.5"
  },
  "orig_nbformat": 4,
  "vscode": {
   "interpreter": {
    "hash": "7d5b8280a9343d9ee9d9ac7993bc3c8e341ffe9fab2657d083f5fc9fab5c1019"
   }
  }
 },
 "nbformat": 4,
 "nbformat_minor": 2
}
